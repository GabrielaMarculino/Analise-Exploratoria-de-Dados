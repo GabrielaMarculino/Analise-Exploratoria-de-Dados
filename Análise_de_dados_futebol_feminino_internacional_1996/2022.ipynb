{
  "cells": [
    {
      "cell_type": "markdown",
      "metadata": {
        "colab_type": "text",
        "id": "view-in-github"
      },
      "source": [
        "<a href=\"https://colab.research.google.com/github/GabrielaMarculino/Analise-Exploratoria-de-Dados/blob/main/An%C3%A1lise_de_dados_futebol_feminino_internacional_1996/2022.ipynb\" target=\"_parent\"><img src=\"https://colab.research.google.com/assets/colab-badge.svg\" alt=\"Open In Colab\"/></a>"
      ]
    },
    {
      "cell_type": "markdown",
      "metadata": {
        "id": "FGOwhcQGFn5A"
      },
      "source": [
        "***INTRODUÇÃO:***\n",
        "Este projeto de análise exploratória de dados, cujo o tema é \"Futebol Feminino Internacional\", tem com objetivo analisar os resultados dos jogos entre os anos 1996 até 2022 e assim para que possamos observar com mais clareza a partir dos gráficos gerados a evolução do futebol e quais campeonatos mais se destacaram ao decorrer dos anos.\n",
        "\n",
        "Gabriela Marculino."
      ]
    },
    {
      "cell_type": "code",
      "execution_count": null,
      "metadata": {
        "id": "DQgLCDv6JDJl"
      },
      "outputs": [],
      "source": [
        "#Caso dê algo errado no arquivo adicionado na plataforma Moodle, segue o link abaixo da pasta compartilhada do Google Drive:\n",
        "# https://drive.google.com/drive/folders/1qk8lJ22hli7wlSzq42Ad6z7CiSd1VtKh?usp=sharing"
      ]
    },
    {
      "cell_type": "code",
      "execution_count": 5,
      "metadata": {
        "colab": {
          "base_uri": "https://localhost:8080/"
        },
        "id": "xklokqsjPaKs",
        "outputId": "d945c111-fa88-454b-aab5-e82558aa3bd2"
      },
      "outputs": [
        {
          "name": "stdout",
          "output_type": "stream",
          "text": [
            "Requirement already satisfied: pandas in c:\\users\\gabriela.marculino\\appdata\\local\\packages\\pythonsoftwarefoundation.python.3.11_qbz5n2kfra8p0\\localcache\\local-packages\\python311\\site-packages (2.2.3)\n",
            "Requirement already satisfied: numpy>=1.23.2 in c:\\users\\gabriela.marculino\\appdata\\local\\packages\\pythonsoftwarefoundation.python.3.11_qbz5n2kfra8p0\\localcache\\local-packages\\python311\\site-packages (from pandas) (2.2.5)\n",
            "Requirement already satisfied: python-dateutil>=2.8.2 in c:\\users\\gabriela.marculino\\appdata\\local\\packages\\pythonsoftwarefoundation.python.3.11_qbz5n2kfra8p0\\localcache\\local-packages\\python311\\site-packages (from pandas) (2.9.0.post0)\n",
            "Requirement already satisfied: pytz>=2020.1 in c:\\users\\gabriela.marculino\\appdata\\local\\packages\\pythonsoftwarefoundation.python.3.11_qbz5n2kfra8p0\\localcache\\local-packages\\python311\\site-packages (from pandas) (2025.2)\n",
            "Requirement already satisfied: tzdata>=2022.7 in c:\\users\\gabriela.marculino\\appdata\\local\\packages\\pythonsoftwarefoundation.python.3.11_qbz5n2kfra8p0\\localcache\\local-packages\\python311\\site-packages (from pandas) (2025.2)\n",
            "Requirement already satisfied: six>=1.5 in c:\\users\\gabriela.marculino\\appdata\\local\\packages\\pythonsoftwarefoundation.python.3.11_qbz5n2kfra8p0\\localcache\\local-packages\\python311\\site-packages (from python-dateutil>=2.8.2->pandas) (1.17.0)\n",
            "Note: you may need to restart the kernel to use updated packages.\n"
          ]
        },
        {
          "name": "stderr",
          "output_type": "stream",
          "text": [
            "\n",
            "[notice] A new release of pip is available: 24.0 -> 25.1\n",
            "[notice] To update, run: C:\\Users\\gabriela.marculino\\AppData\\Local\\Microsoft\\WindowsApps\\PythonSoftwareFoundation.Python.3.11_qbz5n2kfra8p0\\python.exe -m pip install --upgrade pip\n"
          ]
        }
      ],
      "source": [
        "# Instalando a biblioteca Pandas\n",
        "%pip install pandas"
      ]
    },
    {
      "cell_type": "code",
      "execution_count": 6,
      "metadata": {
        "id": "95HMvmUYVe0o"
      },
      "outputs": [],
      "source": [
        "# Importando bibliotecas necessárias\n",
        "import pandas as pd\n",
        "\n",
        "import plotly\n",
        "import plotly.express as px\n",
        "import plotly.graph_objs as go\n",
        "import plotly.figure_factory as ff\n",
        "import numpy as np\n"
      ]
    },
    {
      "cell_type": "markdown",
      "metadata": {
        "id": "leQ1IWeoSWYH"
      },
      "source": [
        "**IMPORTANDO DADOS**"
      ]
    },
    {
      "cell_type": "code",
      "execution_count": 7,
      "metadata": {
        "colab": {
          "base_uri": "https://localhost:8080/",
          "height": 206
        },
        "id": "agR67H2ZVxg6",
        "outputId": "e366a90c-e994-41ff-fff7-dfce593fab00"
      },
      "outputs": [
        {
          "data": {
            "text/html": [
              "<div>\n",
              "<style scoped>\n",
              "    .dataframe tbody tr th:only-of-type {\n",
              "        vertical-align: middle;\n",
              "    }\n",
              "\n",
              "    .dataframe tbody tr th {\n",
              "        vertical-align: top;\n",
              "    }\n",
              "\n",
              "    .dataframe thead th {\n",
              "        text-align: right;\n",
              "    }\n",
              "</style>\n",
              "<table border=\"1\" class=\"dataframe\">\n",
              "  <thead>\n",
              "    <tr style=\"text-align: right;\">\n",
              "      <th></th>\n",
              "      <th>date</th>\n",
              "      <th>home_team</th>\n",
              "      <th>away_team</th>\n",
              "      <th>home_score</th>\n",
              "      <th>away_score</th>\n",
              "      <th>tournament</th>\n",
              "      <th>city</th>\n",
              "      <th>country</th>\n",
              "      <th>neutral</th>\n",
              "    </tr>\n",
              "  </thead>\n",
              "  <tbody>\n",
              "    <tr>\n",
              "      <th>0</th>\n",
              "      <td>1969-11-01</td>\n",
              "      <td>Italy</td>\n",
              "      <td>France</td>\n",
              "      <td>1</td>\n",
              "      <td>0</td>\n",
              "      <td>Euro</td>\n",
              "      <td>Novara</td>\n",
              "      <td>Italy</td>\n",
              "      <td>False</td>\n",
              "    </tr>\n",
              "    <tr>\n",
              "      <th>1</th>\n",
              "      <td>1969-11-01</td>\n",
              "      <td>Denmark</td>\n",
              "      <td>England</td>\n",
              "      <td>4</td>\n",
              "      <td>3</td>\n",
              "      <td>Euro</td>\n",
              "      <td>Aosta</td>\n",
              "      <td>Italy</td>\n",
              "      <td>True</td>\n",
              "    </tr>\n",
              "    <tr>\n",
              "      <th>2</th>\n",
              "      <td>1969-11-02</td>\n",
              "      <td>England</td>\n",
              "      <td>France</td>\n",
              "      <td>2</td>\n",
              "      <td>0</td>\n",
              "      <td>Euro</td>\n",
              "      <td>Turin</td>\n",
              "      <td>Italy</td>\n",
              "      <td>True</td>\n",
              "    </tr>\n",
              "    <tr>\n",
              "      <th>3</th>\n",
              "      <td>1969-11-02</td>\n",
              "      <td>Italy</td>\n",
              "      <td>Denmark</td>\n",
              "      <td>3</td>\n",
              "      <td>1</td>\n",
              "      <td>Euro</td>\n",
              "      <td>Turin</td>\n",
              "      <td>Italy</td>\n",
              "      <td>False</td>\n",
              "    </tr>\n",
              "    <tr>\n",
              "      <th>4</th>\n",
              "      <td>1975-08-25</td>\n",
              "      <td>Thailand</td>\n",
              "      <td>Australia</td>\n",
              "      <td>3</td>\n",
              "      <td>2</td>\n",
              "      <td>AFC Championship</td>\n",
              "      <td>Hong Kong</td>\n",
              "      <td>Hong Kong</td>\n",
              "      <td>True</td>\n",
              "    </tr>\n",
              "  </tbody>\n",
              "</table>\n",
              "</div>"
            ],
            "text/plain": [
              "        date home_team  away_team  home_score  away_score        tournament  \\\n",
              "0 1969-11-01     Italy     France           1           0              Euro   \n",
              "1 1969-11-01   Denmark    England           4           3              Euro   \n",
              "2 1969-11-02   England     France           2           0              Euro   \n",
              "3 1969-11-02     Italy    Denmark           3           1              Euro   \n",
              "4 1975-08-25  Thailand  Australia           3           2  AFC Championship   \n",
              "\n",
              "        city    country  neutral  \n",
              "0     Novara      Italy    False  \n",
              "1      Aosta      Italy     True  \n",
              "2      Turin      Italy     True  \n",
              "3      Turin      Italy    False  \n",
              "4  Hong Kong  Hong Kong     True  "
            ]
          },
          "execution_count": 7,
          "metadata": {},
          "output_type": "execute_result"
        }
      ],
      "source": [
        "# Importing csv to view\n",
        "results = pd.read_csv('c:\\\\Users\\\\gabriela.marculino\\\\Desktop\\\\Analise-Exploratoria-de-Dados\\\\Análise_de_dados_futebol_feminino_internacional_1996\\\\results.csv', parse_dates=['date'])\n",
        "\n",
        "results.head()"
      ]
    },
    {
      "cell_type": "markdown",
      "metadata": {
        "id": "ErcMxaWbydmU"
      },
      "source": [
        "**VERIFICANDO OS TIPOS DE CADA COLUNA**"
      ]
    },
    {
      "cell_type": "code",
      "execution_count": 8,
      "metadata": {
        "colab": {
          "base_uri": "https://localhost:8080/"
        },
        "id": "jjnepMWtY0mt",
        "outputId": "de798459-bf56-4945-ecb1-510be2cf6e45"
      },
      "outputs": [
        {
          "data": {
            "text/plain": [
              "date          datetime64[ns]\n",
              "home_team             object\n",
              "away_team             object\n",
              "home_score             int64\n",
              "away_score             int64\n",
              "tournament            object\n",
              "city                  object\n",
              "country               object\n",
              "neutral                 bool\n",
              "dtype: object"
            ]
          },
          "execution_count": 8,
          "metadata": {},
          "output_type": "execute_result"
        }
      ],
      "source": [
        "results.dtypes"
      ]
    },
    {
      "cell_type": "markdown",
      "metadata": {
        "id": "RMDrVrfdxfHu"
      },
      "source": [
        "**MODIFICANDO A TABELA PARA QUE MOSTRE A COLUNA home_score EM ORDEM DECRESCENTE**"
      ]
    },
    {
      "cell_type": "code",
      "execution_count": 9,
      "metadata": {
        "colab": {
          "base_uri": "https://localhost:8080/",
          "height": 424
        },
        "id": "JiAVPUG6wLsX",
        "outputId": "136ea8db-0fa9-4b3f-cf29-79ef8d47bb62"
      },
      "outputs": [
        {
          "data": {
            "text/html": [
              "<div>\n",
              "<style scoped>\n",
              "    .dataframe tbody tr th:only-of-type {\n",
              "        vertical-align: middle;\n",
              "    }\n",
              "\n",
              "    .dataframe tbody tr th {\n",
              "        vertical-align: top;\n",
              "    }\n",
              "\n",
              "    .dataframe thead th {\n",
              "        text-align: right;\n",
              "    }\n",
              "</style>\n",
              "<table border=\"1\" class=\"dataframe\">\n",
              "  <thead>\n",
              "    <tr style=\"text-align: right;\">\n",
              "      <th></th>\n",
              "      <th>date</th>\n",
              "      <th>home_team</th>\n",
              "      <th>away_team</th>\n",
              "      <th>home_score</th>\n",
              "      <th>away_score</th>\n",
              "      <th>tournament</th>\n",
              "      <th>city</th>\n",
              "      <th>country</th>\n",
              "      <th>neutral</th>\n",
              "    </tr>\n",
              "  </thead>\n",
              "  <tbody>\n",
              "    <tr>\n",
              "      <th>1344</th>\n",
              "      <td>2001-12-06</td>\n",
              "      <td>North Korea</td>\n",
              "      <td>Singapore</td>\n",
              "      <td>24</td>\n",
              "      <td>0</td>\n",
              "      <td>AFC Championship</td>\n",
              "      <td>New Taipei City</td>\n",
              "      <td>Taiwan</td>\n",
              "      <td>True</td>\n",
              "    </tr>\n",
              "    <tr>\n",
              "      <th>984</th>\n",
              "      <td>1998-08-28</td>\n",
              "      <td>Canada</td>\n",
              "      <td>Puerto Rico</td>\n",
              "      <td>21</td>\n",
              "      <td>0</td>\n",
              "      <td>CONCACAF Championship</td>\n",
              "      <td>Toronto</td>\n",
              "      <td>Canada</td>\n",
              "      <td>False</td>\n",
              "    </tr>\n",
              "    <tr>\n",
              "      <th>3158</th>\n",
              "      <td>2013-06-07</td>\n",
              "      <td>Jordan</td>\n",
              "      <td>Kuwait</td>\n",
              "      <td>21</td>\n",
              "      <td>0</td>\n",
              "      <td>AFC Asian Cup qualification</td>\n",
              "      <td>Amman</td>\n",
              "      <td>Jordan</td>\n",
              "      <td>False</td>\n",
              "    </tr>\n",
              "    <tr>\n",
              "      <th>904</th>\n",
              "      <td>1997-12-05</td>\n",
              "      <td>Japan</td>\n",
              "      <td>Guam</td>\n",
              "      <td>21</td>\n",
              "      <td>0</td>\n",
              "      <td>AFC Championship</td>\n",
              "      <td>Guangdong</td>\n",
              "      <td>China PR</td>\n",
              "      <td>True</td>\n",
              "    </tr>\n",
              "    <tr>\n",
              "      <th>712</th>\n",
              "      <td>1995-09-24</td>\n",
              "      <td>China PR</td>\n",
              "      <td>Philippines</td>\n",
              "      <td>21</td>\n",
              "      <td>0</td>\n",
              "      <td>AFC Championship</td>\n",
              "      <td>Kota Kinabalu</td>\n",
              "      <td>Malaysia</td>\n",
              "      <td>True</td>\n",
              "    </tr>\n",
              "    <tr>\n",
              "      <th>...</th>\n",
              "      <td>...</td>\n",
              "      <td>...</td>\n",
              "      <td>...</td>\n",
              "      <td>...</td>\n",
              "      <td>...</td>\n",
              "      <td>...</td>\n",
              "      <td>...</td>\n",
              "      <td>...</td>\n",
              "      <td>...</td>\n",
              "    </tr>\n",
              "    <tr>\n",
              "      <th>1541</th>\n",
              "      <td>2003-05-13</td>\n",
              "      <td>Armenia</td>\n",
              "      <td>Austria</td>\n",
              "      <td>0</td>\n",
              "      <td>11</td>\n",
              "      <td>UEFA Euro qualification</td>\n",
              "      <td>Armenia</td>\n",
              "      <td>Armenia</td>\n",
              "      <td>False</td>\n",
              "    </tr>\n",
              "    <tr>\n",
              "      <th>1540</th>\n",
              "      <td>2003-05-11</td>\n",
              "      <td>Hungary</td>\n",
              "      <td>France</td>\n",
              "      <td>0</td>\n",
              "      <td>4</td>\n",
              "      <td>UEFA Euro qualification</td>\n",
              "      <td>Hungary</td>\n",
              "      <td>Hungary</td>\n",
              "      <td>False</td>\n",
              "    </tr>\n",
              "    <tr>\n",
              "      <th>1538</th>\n",
              "      <td>2003-05-10</td>\n",
              "      <td>Ukraine</td>\n",
              "      <td>Portugal</td>\n",
              "      <td>0</td>\n",
              "      <td>1</td>\n",
              "      <td>UEFA Euro qualification</td>\n",
              "      <td>Kiev</td>\n",
              "      <td>Ukraine</td>\n",
              "      <td>False</td>\n",
              "    </tr>\n",
              "    <tr>\n",
              "      <th>31</th>\n",
              "      <td>1979-07-21</td>\n",
              "      <td>Wales</td>\n",
              "      <td>Netherlands</td>\n",
              "      <td>0</td>\n",
              "      <td>2</td>\n",
              "      <td>Euro</td>\n",
              "      <td>Rimini</td>\n",
              "      <td>Italy</td>\n",
              "      <td>True</td>\n",
              "    </tr>\n",
              "    <tr>\n",
              "      <th>29</th>\n",
              "      <td>1979-07-20</td>\n",
              "      <td>France</td>\n",
              "      <td>Scotland</td>\n",
              "      <td>0</td>\n",
              "      <td>0</td>\n",
              "      <td>Euro</td>\n",
              "      <td>Rimini</td>\n",
              "      <td>Italy</td>\n",
              "      <td>True</td>\n",
              "    </tr>\n",
              "  </tbody>\n",
              "</table>\n",
              "<p>4884 rows × 9 columns</p>\n",
              "</div>"
            ],
            "text/plain": [
              "           date    home_team    away_team  home_score  away_score  \\\n",
              "1344 2001-12-06  North Korea    Singapore          24           0   \n",
              "984  1998-08-28       Canada  Puerto Rico          21           0   \n",
              "3158 2013-06-07       Jordan       Kuwait          21           0   \n",
              "904  1997-12-05        Japan         Guam          21           0   \n",
              "712  1995-09-24     China PR  Philippines          21           0   \n",
              "...         ...          ...          ...         ...         ...   \n",
              "1541 2003-05-13      Armenia      Austria           0          11   \n",
              "1540 2003-05-11      Hungary       France           0           4   \n",
              "1538 2003-05-10      Ukraine     Portugal           0           1   \n",
              "31   1979-07-21        Wales  Netherlands           0           2   \n",
              "29   1979-07-20       France     Scotland           0           0   \n",
              "\n",
              "                       tournament             city   country  neutral  \n",
              "1344             AFC Championship  New Taipei City    Taiwan     True  \n",
              "984         CONCACAF Championship          Toronto    Canada    False  \n",
              "3158  AFC Asian Cup qualification            Amman    Jordan    False  \n",
              "904              AFC Championship        Guangdong  China PR     True  \n",
              "712              AFC Championship    Kota Kinabalu  Malaysia     True  \n",
              "...                           ...              ...       ...      ...  \n",
              "1541      UEFA Euro qualification          Armenia   Armenia    False  \n",
              "1540      UEFA Euro qualification          Hungary   Hungary    False  \n",
              "1538      UEFA Euro qualification             Kiev   Ukraine    False  \n",
              "31                           Euro           Rimini     Italy     True  \n",
              "29                           Euro           Rimini     Italy     True  \n",
              "\n",
              "[4884 rows x 9 columns]"
            ]
          },
          "execution_count": 9,
          "metadata": {},
          "output_type": "execute_result"
        }
      ],
      "source": [
        "results.sort_values('home_score', ascending = False, inplace = True)\n",
        "results"
      ]
    },
    {
      "cell_type": "markdown",
      "metadata": {
        "id": "X6SC7bYDxxXJ"
      },
      "source": [
        "**MODIFICANDO A TABELA PAR QUE MOSTRE A COLUNA away_score EM ORDEM CRESCENTE**"
      ]
    },
    {
      "cell_type": "code",
      "execution_count": 10,
      "metadata": {
        "colab": {
          "base_uri": "https://localhost:8080/",
          "height": 424
        },
        "id": "dj0KqehkyAiL",
        "outputId": "a00c2984-8e84-4384-f9f3-6c8ecef42406"
      },
      "outputs": [
        {
          "data": {
            "text/html": [
              "<div>\n",
              "<style scoped>\n",
              "    .dataframe tbody tr th:only-of-type {\n",
              "        vertical-align: middle;\n",
              "    }\n",
              "\n",
              "    .dataframe tbody tr th {\n",
              "        vertical-align: top;\n",
              "    }\n",
              "\n",
              "    .dataframe thead th {\n",
              "        text-align: right;\n",
              "    }\n",
              "</style>\n",
              "<table border=\"1\" class=\"dataframe\">\n",
              "  <thead>\n",
              "    <tr style=\"text-align: right;\">\n",
              "      <th></th>\n",
              "      <th>date</th>\n",
              "      <th>home_team</th>\n",
              "      <th>away_team</th>\n",
              "      <th>home_score</th>\n",
              "      <th>away_score</th>\n",
              "      <th>tournament</th>\n",
              "      <th>city</th>\n",
              "      <th>country</th>\n",
              "      <th>neutral</th>\n",
              "    </tr>\n",
              "  </thead>\n",
              "  <tbody>\n",
              "    <tr>\n",
              "      <th>152</th>\n",
              "      <td>1984-09-26</td>\n",
              "      <td>Finland</td>\n",
              "      <td>Norway</td>\n",
              "      <td>0</td>\n",
              "      <td>0</td>\n",
              "      <td>UEFA Euro qualification</td>\n",
              "      <td>Tuusula</td>\n",
              "      <td>Finland</td>\n",
              "      <td>False</td>\n",
              "    </tr>\n",
              "    <tr>\n",
              "      <th>318</th>\n",
              "      <td>1989-12-24</td>\n",
              "      <td>Hong Kong</td>\n",
              "      <td>Indonesia</td>\n",
              "      <td>0</td>\n",
              "      <td>0</td>\n",
              "      <td>AFC Championship</td>\n",
              "      <td>Hong Kong</td>\n",
              "      <td>Hong Kong</td>\n",
              "      <td>False</td>\n",
              "    </tr>\n",
              "    <tr>\n",
              "      <th>3509</th>\n",
              "      <td>2015-10-22</td>\n",
              "      <td>Israel</td>\n",
              "      <td>Kazakhstan</td>\n",
              "      <td>0</td>\n",
              "      <td>0</td>\n",
              "      <td>UEFA Euro qualification</td>\n",
              "      <td>Lod</td>\n",
              "      <td>Israel</td>\n",
              "      <td>False</td>\n",
              "    </tr>\n",
              "    <tr>\n",
              "      <th>387</th>\n",
              "      <td>1991-05-19</td>\n",
              "      <td>New Zealand</td>\n",
              "      <td>Papua New Guinea</td>\n",
              "      <td>16</td>\n",
              "      <td>0</td>\n",
              "      <td>OFC Championship</td>\n",
              "      <td>Sydney</td>\n",
              "      <td>Australia</td>\n",
              "      <td>True</td>\n",
              "    </tr>\n",
              "    <tr>\n",
              "      <th>1573</th>\n",
              "      <td>2003-06-14</td>\n",
              "      <td>North Korea</td>\n",
              "      <td>Singapore</td>\n",
              "      <td>16</td>\n",
              "      <td>0</td>\n",
              "      <td>AFC Championship</td>\n",
              "      <td>Bangkok</td>\n",
              "      <td>Thailand</td>\n",
              "      <td>True</td>\n",
              "    </tr>\n",
              "    <tr>\n",
              "      <th>...</th>\n",
              "      <td>...</td>\n",
              "      <td>...</td>\n",
              "      <td>...</td>\n",
              "      <td>...</td>\n",
              "      <td>...</td>\n",
              "      <td>...</td>\n",
              "      <td>...</td>\n",
              "      <td>...</td>\n",
              "      <td>...</td>\n",
              "    </tr>\n",
              "    <tr>\n",
              "      <th>2844</th>\n",
              "      <td>2012-01-21</td>\n",
              "      <td>Dominican Republic</td>\n",
              "      <td>United States</td>\n",
              "      <td>0</td>\n",
              "      <td>14</td>\n",
              "      <td>Olympic Games qualification</td>\n",
              "      <td>Vancouver</td>\n",
              "      <td>Canada</td>\n",
              "      <td>True</td>\n",
              "    </tr>\n",
              "    <tr>\n",
              "      <th>1513</th>\n",
              "      <td>2003-04-07</td>\n",
              "      <td>Samoa</td>\n",
              "      <td>New Zealand</td>\n",
              "      <td>0</td>\n",
              "      <td>15</td>\n",
              "      <td>OFC Championship</td>\n",
              "      <td>Canberra</td>\n",
              "      <td>Australia</td>\n",
              "      <td>True</td>\n",
              "    </tr>\n",
              "    <tr>\n",
              "      <th>4734</th>\n",
              "      <td>2021-09-23</td>\n",
              "      <td>Maldives</td>\n",
              "      <td>Vietnam</td>\n",
              "      <td>0</td>\n",
              "      <td>16</td>\n",
              "      <td>AFC Asian Cup qualification</td>\n",
              "      <td>Dushanbe</td>\n",
              "      <td>Tajikistan</td>\n",
              "      <td>True</td>\n",
              "    </tr>\n",
              "    <tr>\n",
              "      <th>2770</th>\n",
              "      <td>2011-09-21</td>\n",
              "      <td>Poland</td>\n",
              "      <td>Russia</td>\n",
              "      <td>0</td>\n",
              "      <td>20</td>\n",
              "      <td>UEFA Euro qualification</td>\n",
              "      <td>Racibórz</td>\n",
              "      <td>Poland</td>\n",
              "      <td>False</td>\n",
              "    </tr>\n",
              "    <tr>\n",
              "      <th>1998</th>\n",
              "      <td>2006-11-10</td>\n",
              "      <td>Cameroon</td>\n",
              "      <td>South Africa</td>\n",
              "      <td>2</td>\n",
              "      <td>24</td>\n",
              "      <td>African Championship</td>\n",
              "      <td>Delta</td>\n",
              "      <td>Nigeria</td>\n",
              "      <td>True</td>\n",
              "    </tr>\n",
              "  </tbody>\n",
              "</table>\n",
              "<p>4884 rows × 9 columns</p>\n",
              "</div>"
            ],
            "text/plain": [
              "           date           home_team         away_team  home_score  away_score  \\\n",
              "152  1984-09-26             Finland            Norway           0           0   \n",
              "318  1989-12-24           Hong Kong         Indonesia           0           0   \n",
              "3509 2015-10-22              Israel        Kazakhstan           0           0   \n",
              "387  1991-05-19         New Zealand  Papua New Guinea          16           0   \n",
              "1573 2003-06-14         North Korea         Singapore          16           0   \n",
              "...         ...                 ...               ...         ...         ...   \n",
              "2844 2012-01-21  Dominican Republic     United States           0          14   \n",
              "1513 2003-04-07               Samoa       New Zealand           0          15   \n",
              "4734 2021-09-23            Maldives           Vietnam           0          16   \n",
              "2770 2011-09-21              Poland            Russia           0          20   \n",
              "1998 2006-11-10            Cameroon      South Africa           2          24   \n",
              "\n",
              "                       tournament       city     country  neutral  \n",
              "152       UEFA Euro qualification    Tuusula     Finland    False  \n",
              "318              AFC Championship  Hong Kong   Hong Kong    False  \n",
              "3509      UEFA Euro qualification        Lod      Israel    False  \n",
              "387              OFC Championship     Sydney   Australia     True  \n",
              "1573             AFC Championship    Bangkok    Thailand     True  \n",
              "...                           ...        ...         ...      ...  \n",
              "2844  Olympic Games qualification  Vancouver      Canada     True  \n",
              "1513             OFC Championship   Canberra   Australia     True  \n",
              "4734  AFC Asian Cup qualification   Dushanbe  Tajikistan     True  \n",
              "2770      UEFA Euro qualification   Racibórz      Poland    False  \n",
              "1998         African Championship      Delta     Nigeria     True  \n",
              "\n",
              "[4884 rows x 9 columns]"
            ]
          },
          "execution_count": 10,
          "metadata": {},
          "output_type": "execute_result"
        }
      ],
      "source": [
        "results.sort_values('away_score', inplace = True)\n",
        "results"
      ]
    },
    {
      "cell_type": "markdown",
      "metadata": {
        "id": "Tir5BaEhSe6E"
      },
      "source": [
        "**QUAIS SÃO AS EQUIPES VISITANTES COM MAIS POPULARIDADE?**"
      ]
    },
    {
      "cell_type": "code",
      "execution_count": 11,
      "metadata": {
        "colab": {
          "base_uri": "https://localhost:8080/",
          "height": 542
        },
        "id": "NTr4yN4W4qOU",
        "outputId": "0dbd7ce3-1fec-4274-c84e-7e72d88f71c8"
      },
      "outputs": [
        {
          "data": {
            "application/vnd.plotly.v1+json": {
              "config": {
                "plotlyServerURL": "https://plot.ly"
              },
              "data": [
                {
                  "marker": {
                    "color": "rgba(200, 0, 0, 180)",
                    "line": {
                      "color": "rgb(0,0,1)",
                      "width": 1
                    }
                  },
                  "text": [
                    "Denmark",
                    "Norway",
                    "Sweden",
                    "Finland",
                    "Germany",
                    "Italy",
                    "United States",
                    "Netherlands",
                    "France",
                    "England",
                    "China PR",
                    "Iceland",
                    "Canada",
                    "Japan",
                    "Russia",
                    "Switzerland",
                    "Scotland",
                    "Belgium",
                    "Spain",
                    "South Korea"
                  ],
                  "type": "bar",
                  "x": [
                    "Denmark",
                    "Norway",
                    "Sweden",
                    "Finland",
                    "Germany",
                    "Italy",
                    "United States",
                    "Netherlands",
                    "France",
                    "England",
                    "China PR",
                    "Iceland",
                    "Canada",
                    "Japan",
                    "Russia",
                    "Switzerland",
                    "Scotland",
                    "Belgium",
                    "Spain",
                    "South Korea"
                  ],
                  "y": [
                    151,
                    148,
                    145,
                    131,
                    122,
                    117,
                    112,
                    107,
                    107,
                    101,
                    97,
                    93,
                    86,
                    85,
                    85,
                    83,
                    77,
                    75,
                    75,
                    75
                  ]
                }
              ],
              "layout": {
                "template": {
                  "data": {
                    "bar": [
                      {
                        "error_x": {
                          "color": "#2a3f5f"
                        },
                        "error_y": {
                          "color": "#2a3f5f"
                        },
                        "marker": {
                          "line": {
                            "color": "#E5ECF6",
                            "width": 0.5
                          },
                          "pattern": {
                            "fillmode": "overlay",
                            "size": 10,
                            "solidity": 0.2
                          }
                        },
                        "type": "bar"
                      }
                    ],
                    "barpolar": [
                      {
                        "marker": {
                          "line": {
                            "color": "#E5ECF6",
                            "width": 0.5
                          },
                          "pattern": {
                            "fillmode": "overlay",
                            "size": 10,
                            "solidity": 0.2
                          }
                        },
                        "type": "barpolar"
                      }
                    ],
                    "carpet": [
                      {
                        "aaxis": {
                          "endlinecolor": "#2a3f5f",
                          "gridcolor": "white",
                          "linecolor": "white",
                          "minorgridcolor": "white",
                          "startlinecolor": "#2a3f5f"
                        },
                        "baxis": {
                          "endlinecolor": "#2a3f5f",
                          "gridcolor": "white",
                          "linecolor": "white",
                          "minorgridcolor": "white",
                          "startlinecolor": "#2a3f5f"
                        },
                        "type": "carpet"
                      }
                    ],
                    "choropleth": [
                      {
                        "colorbar": {
                          "outlinewidth": 0,
                          "ticks": ""
                        },
                        "type": "choropleth"
                      }
                    ],
                    "contour": [
                      {
                        "colorbar": {
                          "outlinewidth": 0,
                          "ticks": ""
                        },
                        "colorscale": [
                          [
                            0,
                            "#0d0887"
                          ],
                          [
                            0.1111111111111111,
                            "#46039f"
                          ],
                          [
                            0.2222222222222222,
                            "#7201a8"
                          ],
                          [
                            0.3333333333333333,
                            "#9c179e"
                          ],
                          [
                            0.4444444444444444,
                            "#bd3786"
                          ],
                          [
                            0.5555555555555556,
                            "#d8576b"
                          ],
                          [
                            0.6666666666666666,
                            "#ed7953"
                          ],
                          [
                            0.7777777777777778,
                            "#fb9f3a"
                          ],
                          [
                            0.8888888888888888,
                            "#fdca26"
                          ],
                          [
                            1,
                            "#f0f921"
                          ]
                        ],
                        "type": "contour"
                      }
                    ],
                    "contourcarpet": [
                      {
                        "colorbar": {
                          "outlinewidth": 0,
                          "ticks": ""
                        },
                        "type": "contourcarpet"
                      }
                    ],
                    "heatmap": [
                      {
                        "colorbar": {
                          "outlinewidth": 0,
                          "ticks": ""
                        },
                        "colorscale": [
                          [
                            0,
                            "#0d0887"
                          ],
                          [
                            0.1111111111111111,
                            "#46039f"
                          ],
                          [
                            0.2222222222222222,
                            "#7201a8"
                          ],
                          [
                            0.3333333333333333,
                            "#9c179e"
                          ],
                          [
                            0.4444444444444444,
                            "#bd3786"
                          ],
                          [
                            0.5555555555555556,
                            "#d8576b"
                          ],
                          [
                            0.6666666666666666,
                            "#ed7953"
                          ],
                          [
                            0.7777777777777778,
                            "#fb9f3a"
                          ],
                          [
                            0.8888888888888888,
                            "#fdca26"
                          ],
                          [
                            1,
                            "#f0f921"
                          ]
                        ],
                        "type": "heatmap"
                      }
                    ],
                    "histogram": [
                      {
                        "marker": {
                          "pattern": {
                            "fillmode": "overlay",
                            "size": 10,
                            "solidity": 0.2
                          }
                        },
                        "type": "histogram"
                      }
                    ],
                    "histogram2d": [
                      {
                        "colorbar": {
                          "outlinewidth": 0,
                          "ticks": ""
                        },
                        "colorscale": [
                          [
                            0,
                            "#0d0887"
                          ],
                          [
                            0.1111111111111111,
                            "#46039f"
                          ],
                          [
                            0.2222222222222222,
                            "#7201a8"
                          ],
                          [
                            0.3333333333333333,
                            "#9c179e"
                          ],
                          [
                            0.4444444444444444,
                            "#bd3786"
                          ],
                          [
                            0.5555555555555556,
                            "#d8576b"
                          ],
                          [
                            0.6666666666666666,
                            "#ed7953"
                          ],
                          [
                            0.7777777777777778,
                            "#fb9f3a"
                          ],
                          [
                            0.8888888888888888,
                            "#fdca26"
                          ],
                          [
                            1,
                            "#f0f921"
                          ]
                        ],
                        "type": "histogram2d"
                      }
                    ],
                    "histogram2dcontour": [
                      {
                        "colorbar": {
                          "outlinewidth": 0,
                          "ticks": ""
                        },
                        "colorscale": [
                          [
                            0,
                            "#0d0887"
                          ],
                          [
                            0.1111111111111111,
                            "#46039f"
                          ],
                          [
                            0.2222222222222222,
                            "#7201a8"
                          ],
                          [
                            0.3333333333333333,
                            "#9c179e"
                          ],
                          [
                            0.4444444444444444,
                            "#bd3786"
                          ],
                          [
                            0.5555555555555556,
                            "#d8576b"
                          ],
                          [
                            0.6666666666666666,
                            "#ed7953"
                          ],
                          [
                            0.7777777777777778,
                            "#fb9f3a"
                          ],
                          [
                            0.8888888888888888,
                            "#fdca26"
                          ],
                          [
                            1,
                            "#f0f921"
                          ]
                        ],
                        "type": "histogram2dcontour"
                      }
                    ],
                    "mesh3d": [
                      {
                        "colorbar": {
                          "outlinewidth": 0,
                          "ticks": ""
                        },
                        "type": "mesh3d"
                      }
                    ],
                    "parcoords": [
                      {
                        "line": {
                          "colorbar": {
                            "outlinewidth": 0,
                            "ticks": ""
                          }
                        },
                        "type": "parcoords"
                      }
                    ],
                    "pie": [
                      {
                        "automargin": true,
                        "type": "pie"
                      }
                    ],
                    "scatter": [
                      {
                        "fillpattern": {
                          "fillmode": "overlay",
                          "size": 10,
                          "solidity": 0.2
                        },
                        "type": "scatter"
                      }
                    ],
                    "scatter3d": [
                      {
                        "line": {
                          "colorbar": {
                            "outlinewidth": 0,
                            "ticks": ""
                          }
                        },
                        "marker": {
                          "colorbar": {
                            "outlinewidth": 0,
                            "ticks": ""
                          }
                        },
                        "type": "scatter3d"
                      }
                    ],
                    "scattercarpet": [
                      {
                        "marker": {
                          "colorbar": {
                            "outlinewidth": 0,
                            "ticks": ""
                          }
                        },
                        "type": "scattercarpet"
                      }
                    ],
                    "scattergeo": [
                      {
                        "marker": {
                          "colorbar": {
                            "outlinewidth": 0,
                            "ticks": ""
                          }
                        },
                        "type": "scattergeo"
                      }
                    ],
                    "scattergl": [
                      {
                        "marker": {
                          "colorbar": {
                            "outlinewidth": 0,
                            "ticks": ""
                          }
                        },
                        "type": "scattergl"
                      }
                    ],
                    "scattermap": [
                      {
                        "marker": {
                          "colorbar": {
                            "outlinewidth": 0,
                            "ticks": ""
                          }
                        },
                        "type": "scattermap"
                      }
                    ],
                    "scattermapbox": [
                      {
                        "marker": {
                          "colorbar": {
                            "outlinewidth": 0,
                            "ticks": ""
                          }
                        },
                        "type": "scattermapbox"
                      }
                    ],
                    "scatterpolar": [
                      {
                        "marker": {
                          "colorbar": {
                            "outlinewidth": 0,
                            "ticks": ""
                          }
                        },
                        "type": "scatterpolar"
                      }
                    ],
                    "scatterpolargl": [
                      {
                        "marker": {
                          "colorbar": {
                            "outlinewidth": 0,
                            "ticks": ""
                          }
                        },
                        "type": "scatterpolargl"
                      }
                    ],
                    "scatterternary": [
                      {
                        "marker": {
                          "colorbar": {
                            "outlinewidth": 0,
                            "ticks": ""
                          }
                        },
                        "type": "scatterternary"
                      }
                    ],
                    "surface": [
                      {
                        "colorbar": {
                          "outlinewidth": 0,
                          "ticks": ""
                        },
                        "colorscale": [
                          [
                            0,
                            "#0d0887"
                          ],
                          [
                            0.1111111111111111,
                            "#46039f"
                          ],
                          [
                            0.2222222222222222,
                            "#7201a8"
                          ],
                          [
                            0.3333333333333333,
                            "#9c179e"
                          ],
                          [
                            0.4444444444444444,
                            "#bd3786"
                          ],
                          [
                            0.5555555555555556,
                            "#d8576b"
                          ],
                          [
                            0.6666666666666666,
                            "#ed7953"
                          ],
                          [
                            0.7777777777777778,
                            "#fb9f3a"
                          ],
                          [
                            0.8888888888888888,
                            "#fdca26"
                          ],
                          [
                            1,
                            "#f0f921"
                          ]
                        ],
                        "type": "surface"
                      }
                    ],
                    "table": [
                      {
                        "cells": {
                          "fill": {
                            "color": "#EBF0F8"
                          },
                          "line": {
                            "color": "white"
                          }
                        },
                        "header": {
                          "fill": {
                            "color": "#C8D4E3"
                          },
                          "line": {
                            "color": "white"
                          }
                        },
                        "type": "table"
                      }
                    ]
                  },
                  "layout": {
                    "annotationdefaults": {
                      "arrowcolor": "#2a3f5f",
                      "arrowhead": 0,
                      "arrowwidth": 1
                    },
                    "autotypenumbers": "strict",
                    "coloraxis": {
                      "colorbar": {
                        "outlinewidth": 0,
                        "ticks": ""
                      }
                    },
                    "colorscale": {
                      "diverging": [
                        [
                          0,
                          "#8e0152"
                        ],
                        [
                          0.1,
                          "#c51b7d"
                        ],
                        [
                          0.2,
                          "#de77ae"
                        ],
                        [
                          0.3,
                          "#f1b6da"
                        ],
                        [
                          0.4,
                          "#fde0ef"
                        ],
                        [
                          0.5,
                          "#f7f7f7"
                        ],
                        [
                          0.6,
                          "#e6f5d0"
                        ],
                        [
                          0.7,
                          "#b8e186"
                        ],
                        [
                          0.8,
                          "#7fbc41"
                        ],
                        [
                          0.9,
                          "#4d9221"
                        ],
                        [
                          1,
                          "#276419"
                        ]
                      ],
                      "sequential": [
                        [
                          0,
                          "#0d0887"
                        ],
                        [
                          0.1111111111111111,
                          "#46039f"
                        ],
                        [
                          0.2222222222222222,
                          "#7201a8"
                        ],
                        [
                          0.3333333333333333,
                          "#9c179e"
                        ],
                        [
                          0.4444444444444444,
                          "#bd3786"
                        ],
                        [
                          0.5555555555555556,
                          "#d8576b"
                        ],
                        [
                          0.6666666666666666,
                          "#ed7953"
                        ],
                        [
                          0.7777777777777778,
                          "#fb9f3a"
                        ],
                        [
                          0.8888888888888888,
                          "#fdca26"
                        ],
                        [
                          1,
                          "#f0f921"
                        ]
                      ],
                      "sequentialminus": [
                        [
                          0,
                          "#0d0887"
                        ],
                        [
                          0.1111111111111111,
                          "#46039f"
                        ],
                        [
                          0.2222222222222222,
                          "#7201a8"
                        ],
                        [
                          0.3333333333333333,
                          "#9c179e"
                        ],
                        [
                          0.4444444444444444,
                          "#bd3786"
                        ],
                        [
                          0.5555555555555556,
                          "#d8576b"
                        ],
                        [
                          0.6666666666666666,
                          "#ed7953"
                        ],
                        [
                          0.7777777777777778,
                          "#fb9f3a"
                        ],
                        [
                          0.8888888888888888,
                          "#fdca26"
                        ],
                        [
                          1,
                          "#f0f921"
                        ]
                      ]
                    },
                    "colorway": [
                      "#636efa",
                      "#EF553B",
                      "#00cc96",
                      "#ab63fa",
                      "#FFA15A",
                      "#19d3f3",
                      "#FF6692",
                      "#B6E880",
                      "#FF97FF",
                      "#FECB52"
                    ],
                    "font": {
                      "color": "#2a3f5f"
                    },
                    "geo": {
                      "bgcolor": "white",
                      "lakecolor": "white",
                      "landcolor": "#E5ECF6",
                      "showlakes": true,
                      "showland": true,
                      "subunitcolor": "white"
                    },
                    "hoverlabel": {
                      "align": "left"
                    },
                    "hovermode": "closest",
                    "mapbox": {
                      "style": "light"
                    },
                    "paper_bgcolor": "white",
                    "plot_bgcolor": "#E5ECF6",
                    "polar": {
                      "angularaxis": {
                        "gridcolor": "white",
                        "linecolor": "white",
                        "ticks": ""
                      },
                      "bgcolor": "#E5ECF6",
                      "radialaxis": {
                        "gridcolor": "white",
                        "linecolor": "white",
                        "ticks": ""
                      }
                    },
                    "scene": {
                      "xaxis": {
                        "backgroundcolor": "#E5ECF6",
                        "gridcolor": "white",
                        "gridwidth": 2,
                        "linecolor": "white",
                        "showbackground": true,
                        "ticks": "",
                        "zerolinecolor": "white"
                      },
                      "yaxis": {
                        "backgroundcolor": "#E5ECF6",
                        "gridcolor": "white",
                        "gridwidth": 2,
                        "linecolor": "white",
                        "showbackground": true,
                        "ticks": "",
                        "zerolinecolor": "white"
                      },
                      "zaxis": {
                        "backgroundcolor": "#E5ECF6",
                        "gridcolor": "white",
                        "gridwidth": 2,
                        "linecolor": "white",
                        "showbackground": true,
                        "ticks": "",
                        "zerolinecolor": "white"
                      }
                    },
                    "shapedefaults": {
                      "line": {
                        "color": "#2a3f5f"
                      }
                    },
                    "ternary": {
                      "aaxis": {
                        "gridcolor": "white",
                        "linecolor": "white",
                        "ticks": ""
                      },
                      "baxis": {
                        "gridcolor": "white",
                        "linecolor": "white",
                        "ticks": ""
                      },
                      "bgcolor": "#E5ECF6",
                      "caxis": {
                        "gridcolor": "white",
                        "linecolor": "white",
                        "ticks": ""
                      }
                    },
                    "title": {
                      "x": 0.05
                    },
                    "xaxis": {
                      "automargin": true,
                      "gridcolor": "white",
                      "linecolor": "white",
                      "ticks": "",
                      "title": {
                        "standoff": 15
                      },
                      "zerolinecolor": "white",
                      "zerolinewidth": 2
                    },
                    "yaxis": {
                      "automargin": true,
                      "gridcolor": "white",
                      "linecolor": "white",
                      "ticks": "",
                      "title": {
                        "standoff": 15
                      },
                      "zerolinecolor": "white",
                      "zerolinewidth": 2
                    }
                  }
                },
                "title": {
                  "text": "Top 20 equipes visitantes mais populares das jogadoras"
                }
              }
            }
          },
          "metadata": {},
          "output_type": "display_data"
        }
      ],
      "source": [
        "equipes = list(dict(results['away_team'].value_counts()).keys())[:20]\n",
        "valores = results['away_team'].value_counts().tolist()[:20]\n",
        "\n",
        "grafico = go.Bar(\n",
        "            x = equipes,\n",
        "            y = valores,\n",
        "            marker = dict(color = 'rgba(200, 0, 0, 180)', line = dict(color = 'rgb(0,0,1)',width = 1.0)),\n",
        "            text = equipes)\n",
        "\n",
        "layout = go.Layout()\n",
        "\n",
        "grafico = go.Figure(data = grafico, layout = layout)\n",
        "grafico.update_layout(title_text = 'Top 20 equipes visitantes mais populares das jogadoras')\n",
        "\n",
        "grafico.show()"
      ]
    },
    {
      "cell_type": "markdown",
      "metadata": {
        "id": "LHO8LFvZTjZk"
      },
      "source": [
        "**QUAIS SÃO OS TIMES DE CASA COM MAIORES PONTUAÇÕES?**"
      ]
    },
    {
      "cell_type": "code",
      "execution_count": 12,
      "metadata": {
        "colab": {
          "base_uri": "https://localhost:8080/",
          "height": 542
        },
        "id": "cVdtCMlG4tD4",
        "outputId": "8d65297a-b24a-4f0a-c53e-35061a40dca6"
      },
      "outputs": [
        {
          "data": {
            "application/vnd.plotly.v1+json": {
              "config": {
                "plotlyServerURL": "https://plot.ly"
              },
              "data": [
                {
                  "marker": {
                    "color": "rgba(200, 255, 100, 180)",
                    "line": {
                      "color": "rgb(0,0,1)",
                      "width": 1
                    }
                  },
                  "text": [
                    "United States",
                    "China PR",
                    "Norway",
                    "Sweden",
                    "Germany",
                    "Portugal",
                    "Denmark",
                    "Italy",
                    "England",
                    "France",
                    "Japan",
                    "Finland",
                    "Canada",
                    "Netherlands",
                    "Brazil",
                    "Switzerland",
                    "Nigeria",
                    "Iceland",
                    "Scotland",
                    "Australia"
                  ],
                  "type": "bar",
                  "x": [
                    "United States",
                    "China PR",
                    "Norway",
                    "Sweden",
                    "Germany",
                    "Portugal",
                    "Denmark",
                    "Italy",
                    "England",
                    "France",
                    "Japan",
                    "Finland",
                    "Canada",
                    "Netherlands",
                    "Brazil",
                    "Switzerland",
                    "Nigeria",
                    "Iceland",
                    "Scotland",
                    "Australia"
                  ],
                  "y": [
                    269,
                    189,
                    171,
                    171,
                    166,
                    149,
                    120,
                    109,
                    108,
                    105,
                    97,
                    88,
                    87,
                    86,
                    78,
                    73,
                    70,
                    70,
                    67,
                    65
                  ]
                }
              ],
              "layout": {
                "template": {
                  "data": {
                    "bar": [
                      {
                        "error_x": {
                          "color": "#2a3f5f"
                        },
                        "error_y": {
                          "color": "#2a3f5f"
                        },
                        "marker": {
                          "line": {
                            "color": "#E5ECF6",
                            "width": 0.5
                          },
                          "pattern": {
                            "fillmode": "overlay",
                            "size": 10,
                            "solidity": 0.2
                          }
                        },
                        "type": "bar"
                      }
                    ],
                    "barpolar": [
                      {
                        "marker": {
                          "line": {
                            "color": "#E5ECF6",
                            "width": 0.5
                          },
                          "pattern": {
                            "fillmode": "overlay",
                            "size": 10,
                            "solidity": 0.2
                          }
                        },
                        "type": "barpolar"
                      }
                    ],
                    "carpet": [
                      {
                        "aaxis": {
                          "endlinecolor": "#2a3f5f",
                          "gridcolor": "white",
                          "linecolor": "white",
                          "minorgridcolor": "white",
                          "startlinecolor": "#2a3f5f"
                        },
                        "baxis": {
                          "endlinecolor": "#2a3f5f",
                          "gridcolor": "white",
                          "linecolor": "white",
                          "minorgridcolor": "white",
                          "startlinecolor": "#2a3f5f"
                        },
                        "type": "carpet"
                      }
                    ],
                    "choropleth": [
                      {
                        "colorbar": {
                          "outlinewidth": 0,
                          "ticks": ""
                        },
                        "type": "choropleth"
                      }
                    ],
                    "contour": [
                      {
                        "colorbar": {
                          "outlinewidth": 0,
                          "ticks": ""
                        },
                        "colorscale": [
                          [
                            0,
                            "#0d0887"
                          ],
                          [
                            0.1111111111111111,
                            "#46039f"
                          ],
                          [
                            0.2222222222222222,
                            "#7201a8"
                          ],
                          [
                            0.3333333333333333,
                            "#9c179e"
                          ],
                          [
                            0.4444444444444444,
                            "#bd3786"
                          ],
                          [
                            0.5555555555555556,
                            "#d8576b"
                          ],
                          [
                            0.6666666666666666,
                            "#ed7953"
                          ],
                          [
                            0.7777777777777778,
                            "#fb9f3a"
                          ],
                          [
                            0.8888888888888888,
                            "#fdca26"
                          ],
                          [
                            1,
                            "#f0f921"
                          ]
                        ],
                        "type": "contour"
                      }
                    ],
                    "contourcarpet": [
                      {
                        "colorbar": {
                          "outlinewidth": 0,
                          "ticks": ""
                        },
                        "type": "contourcarpet"
                      }
                    ],
                    "heatmap": [
                      {
                        "colorbar": {
                          "outlinewidth": 0,
                          "ticks": ""
                        },
                        "colorscale": [
                          [
                            0,
                            "#0d0887"
                          ],
                          [
                            0.1111111111111111,
                            "#46039f"
                          ],
                          [
                            0.2222222222222222,
                            "#7201a8"
                          ],
                          [
                            0.3333333333333333,
                            "#9c179e"
                          ],
                          [
                            0.4444444444444444,
                            "#bd3786"
                          ],
                          [
                            0.5555555555555556,
                            "#d8576b"
                          ],
                          [
                            0.6666666666666666,
                            "#ed7953"
                          ],
                          [
                            0.7777777777777778,
                            "#fb9f3a"
                          ],
                          [
                            0.8888888888888888,
                            "#fdca26"
                          ],
                          [
                            1,
                            "#f0f921"
                          ]
                        ],
                        "type": "heatmap"
                      }
                    ],
                    "histogram": [
                      {
                        "marker": {
                          "pattern": {
                            "fillmode": "overlay",
                            "size": 10,
                            "solidity": 0.2
                          }
                        },
                        "type": "histogram"
                      }
                    ],
                    "histogram2d": [
                      {
                        "colorbar": {
                          "outlinewidth": 0,
                          "ticks": ""
                        },
                        "colorscale": [
                          [
                            0,
                            "#0d0887"
                          ],
                          [
                            0.1111111111111111,
                            "#46039f"
                          ],
                          [
                            0.2222222222222222,
                            "#7201a8"
                          ],
                          [
                            0.3333333333333333,
                            "#9c179e"
                          ],
                          [
                            0.4444444444444444,
                            "#bd3786"
                          ],
                          [
                            0.5555555555555556,
                            "#d8576b"
                          ],
                          [
                            0.6666666666666666,
                            "#ed7953"
                          ],
                          [
                            0.7777777777777778,
                            "#fb9f3a"
                          ],
                          [
                            0.8888888888888888,
                            "#fdca26"
                          ],
                          [
                            1,
                            "#f0f921"
                          ]
                        ],
                        "type": "histogram2d"
                      }
                    ],
                    "histogram2dcontour": [
                      {
                        "colorbar": {
                          "outlinewidth": 0,
                          "ticks": ""
                        },
                        "colorscale": [
                          [
                            0,
                            "#0d0887"
                          ],
                          [
                            0.1111111111111111,
                            "#46039f"
                          ],
                          [
                            0.2222222222222222,
                            "#7201a8"
                          ],
                          [
                            0.3333333333333333,
                            "#9c179e"
                          ],
                          [
                            0.4444444444444444,
                            "#bd3786"
                          ],
                          [
                            0.5555555555555556,
                            "#d8576b"
                          ],
                          [
                            0.6666666666666666,
                            "#ed7953"
                          ],
                          [
                            0.7777777777777778,
                            "#fb9f3a"
                          ],
                          [
                            0.8888888888888888,
                            "#fdca26"
                          ],
                          [
                            1,
                            "#f0f921"
                          ]
                        ],
                        "type": "histogram2dcontour"
                      }
                    ],
                    "mesh3d": [
                      {
                        "colorbar": {
                          "outlinewidth": 0,
                          "ticks": ""
                        },
                        "type": "mesh3d"
                      }
                    ],
                    "parcoords": [
                      {
                        "line": {
                          "colorbar": {
                            "outlinewidth": 0,
                            "ticks": ""
                          }
                        },
                        "type": "parcoords"
                      }
                    ],
                    "pie": [
                      {
                        "automargin": true,
                        "type": "pie"
                      }
                    ],
                    "scatter": [
                      {
                        "fillpattern": {
                          "fillmode": "overlay",
                          "size": 10,
                          "solidity": 0.2
                        },
                        "type": "scatter"
                      }
                    ],
                    "scatter3d": [
                      {
                        "line": {
                          "colorbar": {
                            "outlinewidth": 0,
                            "ticks": ""
                          }
                        },
                        "marker": {
                          "colorbar": {
                            "outlinewidth": 0,
                            "ticks": ""
                          }
                        },
                        "type": "scatter3d"
                      }
                    ],
                    "scattercarpet": [
                      {
                        "marker": {
                          "colorbar": {
                            "outlinewidth": 0,
                            "ticks": ""
                          }
                        },
                        "type": "scattercarpet"
                      }
                    ],
                    "scattergeo": [
                      {
                        "marker": {
                          "colorbar": {
                            "outlinewidth": 0,
                            "ticks": ""
                          }
                        },
                        "type": "scattergeo"
                      }
                    ],
                    "scattergl": [
                      {
                        "marker": {
                          "colorbar": {
                            "outlinewidth": 0,
                            "ticks": ""
                          }
                        },
                        "type": "scattergl"
                      }
                    ],
                    "scattermap": [
                      {
                        "marker": {
                          "colorbar": {
                            "outlinewidth": 0,
                            "ticks": ""
                          }
                        },
                        "type": "scattermap"
                      }
                    ],
                    "scattermapbox": [
                      {
                        "marker": {
                          "colorbar": {
                            "outlinewidth": 0,
                            "ticks": ""
                          }
                        },
                        "type": "scattermapbox"
                      }
                    ],
                    "scatterpolar": [
                      {
                        "marker": {
                          "colorbar": {
                            "outlinewidth": 0,
                            "ticks": ""
                          }
                        },
                        "type": "scatterpolar"
                      }
                    ],
                    "scatterpolargl": [
                      {
                        "marker": {
                          "colorbar": {
                            "outlinewidth": 0,
                            "ticks": ""
                          }
                        },
                        "type": "scatterpolargl"
                      }
                    ],
                    "scatterternary": [
                      {
                        "marker": {
                          "colorbar": {
                            "outlinewidth": 0,
                            "ticks": ""
                          }
                        },
                        "type": "scatterternary"
                      }
                    ],
                    "surface": [
                      {
                        "colorbar": {
                          "outlinewidth": 0,
                          "ticks": ""
                        },
                        "colorscale": [
                          [
                            0,
                            "#0d0887"
                          ],
                          [
                            0.1111111111111111,
                            "#46039f"
                          ],
                          [
                            0.2222222222222222,
                            "#7201a8"
                          ],
                          [
                            0.3333333333333333,
                            "#9c179e"
                          ],
                          [
                            0.4444444444444444,
                            "#bd3786"
                          ],
                          [
                            0.5555555555555556,
                            "#d8576b"
                          ],
                          [
                            0.6666666666666666,
                            "#ed7953"
                          ],
                          [
                            0.7777777777777778,
                            "#fb9f3a"
                          ],
                          [
                            0.8888888888888888,
                            "#fdca26"
                          ],
                          [
                            1,
                            "#f0f921"
                          ]
                        ],
                        "type": "surface"
                      }
                    ],
                    "table": [
                      {
                        "cells": {
                          "fill": {
                            "color": "#EBF0F8"
                          },
                          "line": {
                            "color": "white"
                          }
                        },
                        "header": {
                          "fill": {
                            "color": "#C8D4E3"
                          },
                          "line": {
                            "color": "white"
                          }
                        },
                        "type": "table"
                      }
                    ]
                  },
                  "layout": {
                    "annotationdefaults": {
                      "arrowcolor": "#2a3f5f",
                      "arrowhead": 0,
                      "arrowwidth": 1
                    },
                    "autotypenumbers": "strict",
                    "coloraxis": {
                      "colorbar": {
                        "outlinewidth": 0,
                        "ticks": ""
                      }
                    },
                    "colorscale": {
                      "diverging": [
                        [
                          0,
                          "#8e0152"
                        ],
                        [
                          0.1,
                          "#c51b7d"
                        ],
                        [
                          0.2,
                          "#de77ae"
                        ],
                        [
                          0.3,
                          "#f1b6da"
                        ],
                        [
                          0.4,
                          "#fde0ef"
                        ],
                        [
                          0.5,
                          "#f7f7f7"
                        ],
                        [
                          0.6,
                          "#e6f5d0"
                        ],
                        [
                          0.7,
                          "#b8e186"
                        ],
                        [
                          0.8,
                          "#7fbc41"
                        ],
                        [
                          0.9,
                          "#4d9221"
                        ],
                        [
                          1,
                          "#276419"
                        ]
                      ],
                      "sequential": [
                        [
                          0,
                          "#0d0887"
                        ],
                        [
                          0.1111111111111111,
                          "#46039f"
                        ],
                        [
                          0.2222222222222222,
                          "#7201a8"
                        ],
                        [
                          0.3333333333333333,
                          "#9c179e"
                        ],
                        [
                          0.4444444444444444,
                          "#bd3786"
                        ],
                        [
                          0.5555555555555556,
                          "#d8576b"
                        ],
                        [
                          0.6666666666666666,
                          "#ed7953"
                        ],
                        [
                          0.7777777777777778,
                          "#fb9f3a"
                        ],
                        [
                          0.8888888888888888,
                          "#fdca26"
                        ],
                        [
                          1,
                          "#f0f921"
                        ]
                      ],
                      "sequentialminus": [
                        [
                          0,
                          "#0d0887"
                        ],
                        [
                          0.1111111111111111,
                          "#46039f"
                        ],
                        [
                          0.2222222222222222,
                          "#7201a8"
                        ],
                        [
                          0.3333333333333333,
                          "#9c179e"
                        ],
                        [
                          0.4444444444444444,
                          "#bd3786"
                        ],
                        [
                          0.5555555555555556,
                          "#d8576b"
                        ],
                        [
                          0.6666666666666666,
                          "#ed7953"
                        ],
                        [
                          0.7777777777777778,
                          "#fb9f3a"
                        ],
                        [
                          0.8888888888888888,
                          "#fdca26"
                        ],
                        [
                          1,
                          "#f0f921"
                        ]
                      ]
                    },
                    "colorway": [
                      "#636efa",
                      "#EF553B",
                      "#00cc96",
                      "#ab63fa",
                      "#FFA15A",
                      "#19d3f3",
                      "#FF6692",
                      "#B6E880",
                      "#FF97FF",
                      "#FECB52"
                    ],
                    "font": {
                      "color": "#2a3f5f"
                    },
                    "geo": {
                      "bgcolor": "white",
                      "lakecolor": "white",
                      "landcolor": "#E5ECF6",
                      "showlakes": true,
                      "showland": true,
                      "subunitcolor": "white"
                    },
                    "hoverlabel": {
                      "align": "left"
                    },
                    "hovermode": "closest",
                    "mapbox": {
                      "style": "light"
                    },
                    "paper_bgcolor": "white",
                    "plot_bgcolor": "#E5ECF6",
                    "polar": {
                      "angularaxis": {
                        "gridcolor": "white",
                        "linecolor": "white",
                        "ticks": ""
                      },
                      "bgcolor": "#E5ECF6",
                      "radialaxis": {
                        "gridcolor": "white",
                        "linecolor": "white",
                        "ticks": ""
                      }
                    },
                    "scene": {
                      "xaxis": {
                        "backgroundcolor": "#E5ECF6",
                        "gridcolor": "white",
                        "gridwidth": 2,
                        "linecolor": "white",
                        "showbackground": true,
                        "ticks": "",
                        "zerolinecolor": "white"
                      },
                      "yaxis": {
                        "backgroundcolor": "#E5ECF6",
                        "gridcolor": "white",
                        "gridwidth": 2,
                        "linecolor": "white",
                        "showbackground": true,
                        "ticks": "",
                        "zerolinecolor": "white"
                      },
                      "zaxis": {
                        "backgroundcolor": "#E5ECF6",
                        "gridcolor": "white",
                        "gridwidth": 2,
                        "linecolor": "white",
                        "showbackground": true,
                        "ticks": "",
                        "zerolinecolor": "white"
                      }
                    },
                    "shapedefaults": {
                      "line": {
                        "color": "#2a3f5f"
                      }
                    },
                    "ternary": {
                      "aaxis": {
                        "gridcolor": "white",
                        "linecolor": "white",
                        "ticks": ""
                      },
                      "baxis": {
                        "gridcolor": "white",
                        "linecolor": "white",
                        "ticks": ""
                      },
                      "bgcolor": "#E5ECF6",
                      "caxis": {
                        "gridcolor": "white",
                        "linecolor": "white",
                        "ticks": ""
                      }
                    },
                    "title": {
                      "x": 0.05
                    },
                    "xaxis": {
                      "automargin": true,
                      "gridcolor": "white",
                      "linecolor": "white",
                      "ticks": "",
                      "title": {
                        "standoff": 15
                      },
                      "zerolinecolor": "white",
                      "zerolinewidth": 2
                    },
                    "yaxis": {
                      "automargin": true,
                      "gridcolor": "white",
                      "linecolor": "white",
                      "ticks": "",
                      "title": {
                        "standoff": 15
                      },
                      "zerolinecolor": "white",
                      "zerolinewidth": 2
                    }
                  }
                },
                "title": {
                  "text": "Top 20 equipes de casa com maiores pontuações"
                }
              }
            }
          },
          "metadata": {},
          "output_type": "display_data"
        }
      ],
      "source": [
        "equipes = list(dict(results['home_team'].value_counts()).keys())[:20]\n",
        "valores = results['home_team'].value_counts().tolist()[:20]\n",
        "\n",
        "grafico = go.Bar(\n",
        "            x = equipes,\n",
        "            y = valores,\n",
        "            marker = dict(color = 'rgba(200, 255, 100, 180)', line = dict(color='rgb(0,0,1)',width = 1.0)),\n",
        "            text = equipes)\n",
        "\n",
        "layout = go.Layout()\n",
        "\n",
        "grafico = go.Figure(data = grafico, layout = layout)\n",
        "grafico.update_layout(title_text = 'Top 20 equipes de casa com maiores pontuações')\n",
        "\n",
        "grafico.show()"
      ]
    },
    {
      "cell_type": "markdown",
      "metadata": {
        "id": "FqIFqDnyT6In"
      },
      "source": [
        "**QUAIS SÃO OS TIMES VISITANTES COM MAIORES PONTUAÇÕES?**"
      ]
    },
    {
      "cell_type": "code",
      "execution_count": 13,
      "metadata": {
        "colab": {
          "base_uri": "https://localhost:8080/",
          "height": 542
        },
        "id": "hSUKC1m443MU",
        "outputId": "2790458f-7540-4195-9ce1-1939c972387c"
      },
      "outputs": [
        {
          "data": {
            "application/vnd.plotly.v1+json": {
              "config": {
                "plotlyServerURL": "https://plot.ly"
              },
              "data": [
                {
                  "marker": {
                    "color": "rgba(255, 200, 0, 100)",
                    "line": {
                      "color": "rgb(0, 0, 0)",
                      "width": 1
                    }
                  },
                  "text": [
                    "Denmark",
                    "Norway",
                    "Sweden",
                    "Finland",
                    "Germany",
                    "Italy",
                    "United States",
                    "Netherlands",
                    "France",
                    "England",
                    "China PR",
                    "Iceland",
                    "Canada",
                    "Japan",
                    "Russia",
                    "Switzerland",
                    "Scotland",
                    "Belgium",
                    "Spain",
                    "South Korea"
                  ],
                  "type": "bar",
                  "x": [
                    "Denmark",
                    "Norway",
                    "Sweden",
                    "Finland",
                    "Germany",
                    "Italy",
                    "United States",
                    "Netherlands",
                    "France",
                    "England",
                    "China PR",
                    "Iceland",
                    "Canada",
                    "Japan",
                    "Russia",
                    "Switzerland",
                    "Scotland",
                    "Belgium",
                    "Spain",
                    "South Korea"
                  ],
                  "y": [
                    151,
                    148,
                    145,
                    131,
                    122,
                    117,
                    112,
                    107,
                    107,
                    101,
                    97,
                    93,
                    86,
                    85,
                    85,
                    83,
                    77,
                    75,
                    75,
                    75
                  ]
                }
              ],
              "layout": {
                "template": {
                  "data": {
                    "bar": [
                      {
                        "error_x": {
                          "color": "#2a3f5f"
                        },
                        "error_y": {
                          "color": "#2a3f5f"
                        },
                        "marker": {
                          "line": {
                            "color": "#E5ECF6",
                            "width": 0.5
                          },
                          "pattern": {
                            "fillmode": "overlay",
                            "size": 10,
                            "solidity": 0.2
                          }
                        },
                        "type": "bar"
                      }
                    ],
                    "barpolar": [
                      {
                        "marker": {
                          "line": {
                            "color": "#E5ECF6",
                            "width": 0.5
                          },
                          "pattern": {
                            "fillmode": "overlay",
                            "size": 10,
                            "solidity": 0.2
                          }
                        },
                        "type": "barpolar"
                      }
                    ],
                    "carpet": [
                      {
                        "aaxis": {
                          "endlinecolor": "#2a3f5f",
                          "gridcolor": "white",
                          "linecolor": "white",
                          "minorgridcolor": "white",
                          "startlinecolor": "#2a3f5f"
                        },
                        "baxis": {
                          "endlinecolor": "#2a3f5f",
                          "gridcolor": "white",
                          "linecolor": "white",
                          "minorgridcolor": "white",
                          "startlinecolor": "#2a3f5f"
                        },
                        "type": "carpet"
                      }
                    ],
                    "choropleth": [
                      {
                        "colorbar": {
                          "outlinewidth": 0,
                          "ticks": ""
                        },
                        "type": "choropleth"
                      }
                    ],
                    "contour": [
                      {
                        "colorbar": {
                          "outlinewidth": 0,
                          "ticks": ""
                        },
                        "colorscale": [
                          [
                            0,
                            "#0d0887"
                          ],
                          [
                            0.1111111111111111,
                            "#46039f"
                          ],
                          [
                            0.2222222222222222,
                            "#7201a8"
                          ],
                          [
                            0.3333333333333333,
                            "#9c179e"
                          ],
                          [
                            0.4444444444444444,
                            "#bd3786"
                          ],
                          [
                            0.5555555555555556,
                            "#d8576b"
                          ],
                          [
                            0.6666666666666666,
                            "#ed7953"
                          ],
                          [
                            0.7777777777777778,
                            "#fb9f3a"
                          ],
                          [
                            0.8888888888888888,
                            "#fdca26"
                          ],
                          [
                            1,
                            "#f0f921"
                          ]
                        ],
                        "type": "contour"
                      }
                    ],
                    "contourcarpet": [
                      {
                        "colorbar": {
                          "outlinewidth": 0,
                          "ticks": ""
                        },
                        "type": "contourcarpet"
                      }
                    ],
                    "heatmap": [
                      {
                        "colorbar": {
                          "outlinewidth": 0,
                          "ticks": ""
                        },
                        "colorscale": [
                          [
                            0,
                            "#0d0887"
                          ],
                          [
                            0.1111111111111111,
                            "#46039f"
                          ],
                          [
                            0.2222222222222222,
                            "#7201a8"
                          ],
                          [
                            0.3333333333333333,
                            "#9c179e"
                          ],
                          [
                            0.4444444444444444,
                            "#bd3786"
                          ],
                          [
                            0.5555555555555556,
                            "#d8576b"
                          ],
                          [
                            0.6666666666666666,
                            "#ed7953"
                          ],
                          [
                            0.7777777777777778,
                            "#fb9f3a"
                          ],
                          [
                            0.8888888888888888,
                            "#fdca26"
                          ],
                          [
                            1,
                            "#f0f921"
                          ]
                        ],
                        "type": "heatmap"
                      }
                    ],
                    "histogram": [
                      {
                        "marker": {
                          "pattern": {
                            "fillmode": "overlay",
                            "size": 10,
                            "solidity": 0.2
                          }
                        },
                        "type": "histogram"
                      }
                    ],
                    "histogram2d": [
                      {
                        "colorbar": {
                          "outlinewidth": 0,
                          "ticks": ""
                        },
                        "colorscale": [
                          [
                            0,
                            "#0d0887"
                          ],
                          [
                            0.1111111111111111,
                            "#46039f"
                          ],
                          [
                            0.2222222222222222,
                            "#7201a8"
                          ],
                          [
                            0.3333333333333333,
                            "#9c179e"
                          ],
                          [
                            0.4444444444444444,
                            "#bd3786"
                          ],
                          [
                            0.5555555555555556,
                            "#d8576b"
                          ],
                          [
                            0.6666666666666666,
                            "#ed7953"
                          ],
                          [
                            0.7777777777777778,
                            "#fb9f3a"
                          ],
                          [
                            0.8888888888888888,
                            "#fdca26"
                          ],
                          [
                            1,
                            "#f0f921"
                          ]
                        ],
                        "type": "histogram2d"
                      }
                    ],
                    "histogram2dcontour": [
                      {
                        "colorbar": {
                          "outlinewidth": 0,
                          "ticks": ""
                        },
                        "colorscale": [
                          [
                            0,
                            "#0d0887"
                          ],
                          [
                            0.1111111111111111,
                            "#46039f"
                          ],
                          [
                            0.2222222222222222,
                            "#7201a8"
                          ],
                          [
                            0.3333333333333333,
                            "#9c179e"
                          ],
                          [
                            0.4444444444444444,
                            "#bd3786"
                          ],
                          [
                            0.5555555555555556,
                            "#d8576b"
                          ],
                          [
                            0.6666666666666666,
                            "#ed7953"
                          ],
                          [
                            0.7777777777777778,
                            "#fb9f3a"
                          ],
                          [
                            0.8888888888888888,
                            "#fdca26"
                          ],
                          [
                            1,
                            "#f0f921"
                          ]
                        ],
                        "type": "histogram2dcontour"
                      }
                    ],
                    "mesh3d": [
                      {
                        "colorbar": {
                          "outlinewidth": 0,
                          "ticks": ""
                        },
                        "type": "mesh3d"
                      }
                    ],
                    "parcoords": [
                      {
                        "line": {
                          "colorbar": {
                            "outlinewidth": 0,
                            "ticks": ""
                          }
                        },
                        "type": "parcoords"
                      }
                    ],
                    "pie": [
                      {
                        "automargin": true,
                        "type": "pie"
                      }
                    ],
                    "scatter": [
                      {
                        "fillpattern": {
                          "fillmode": "overlay",
                          "size": 10,
                          "solidity": 0.2
                        },
                        "type": "scatter"
                      }
                    ],
                    "scatter3d": [
                      {
                        "line": {
                          "colorbar": {
                            "outlinewidth": 0,
                            "ticks": ""
                          }
                        },
                        "marker": {
                          "colorbar": {
                            "outlinewidth": 0,
                            "ticks": ""
                          }
                        },
                        "type": "scatter3d"
                      }
                    ],
                    "scattercarpet": [
                      {
                        "marker": {
                          "colorbar": {
                            "outlinewidth": 0,
                            "ticks": ""
                          }
                        },
                        "type": "scattercarpet"
                      }
                    ],
                    "scattergeo": [
                      {
                        "marker": {
                          "colorbar": {
                            "outlinewidth": 0,
                            "ticks": ""
                          }
                        },
                        "type": "scattergeo"
                      }
                    ],
                    "scattergl": [
                      {
                        "marker": {
                          "colorbar": {
                            "outlinewidth": 0,
                            "ticks": ""
                          }
                        },
                        "type": "scattergl"
                      }
                    ],
                    "scattermap": [
                      {
                        "marker": {
                          "colorbar": {
                            "outlinewidth": 0,
                            "ticks": ""
                          }
                        },
                        "type": "scattermap"
                      }
                    ],
                    "scattermapbox": [
                      {
                        "marker": {
                          "colorbar": {
                            "outlinewidth": 0,
                            "ticks": ""
                          }
                        },
                        "type": "scattermapbox"
                      }
                    ],
                    "scatterpolar": [
                      {
                        "marker": {
                          "colorbar": {
                            "outlinewidth": 0,
                            "ticks": ""
                          }
                        },
                        "type": "scatterpolar"
                      }
                    ],
                    "scatterpolargl": [
                      {
                        "marker": {
                          "colorbar": {
                            "outlinewidth": 0,
                            "ticks": ""
                          }
                        },
                        "type": "scatterpolargl"
                      }
                    ],
                    "scatterternary": [
                      {
                        "marker": {
                          "colorbar": {
                            "outlinewidth": 0,
                            "ticks": ""
                          }
                        },
                        "type": "scatterternary"
                      }
                    ],
                    "surface": [
                      {
                        "colorbar": {
                          "outlinewidth": 0,
                          "ticks": ""
                        },
                        "colorscale": [
                          [
                            0,
                            "#0d0887"
                          ],
                          [
                            0.1111111111111111,
                            "#46039f"
                          ],
                          [
                            0.2222222222222222,
                            "#7201a8"
                          ],
                          [
                            0.3333333333333333,
                            "#9c179e"
                          ],
                          [
                            0.4444444444444444,
                            "#bd3786"
                          ],
                          [
                            0.5555555555555556,
                            "#d8576b"
                          ],
                          [
                            0.6666666666666666,
                            "#ed7953"
                          ],
                          [
                            0.7777777777777778,
                            "#fb9f3a"
                          ],
                          [
                            0.8888888888888888,
                            "#fdca26"
                          ],
                          [
                            1,
                            "#f0f921"
                          ]
                        ],
                        "type": "surface"
                      }
                    ],
                    "table": [
                      {
                        "cells": {
                          "fill": {
                            "color": "#EBF0F8"
                          },
                          "line": {
                            "color": "white"
                          }
                        },
                        "header": {
                          "fill": {
                            "color": "#C8D4E3"
                          },
                          "line": {
                            "color": "white"
                          }
                        },
                        "type": "table"
                      }
                    ]
                  },
                  "layout": {
                    "annotationdefaults": {
                      "arrowcolor": "#2a3f5f",
                      "arrowhead": 0,
                      "arrowwidth": 1
                    },
                    "autotypenumbers": "strict",
                    "coloraxis": {
                      "colorbar": {
                        "outlinewidth": 0,
                        "ticks": ""
                      }
                    },
                    "colorscale": {
                      "diverging": [
                        [
                          0,
                          "#8e0152"
                        ],
                        [
                          0.1,
                          "#c51b7d"
                        ],
                        [
                          0.2,
                          "#de77ae"
                        ],
                        [
                          0.3,
                          "#f1b6da"
                        ],
                        [
                          0.4,
                          "#fde0ef"
                        ],
                        [
                          0.5,
                          "#f7f7f7"
                        ],
                        [
                          0.6,
                          "#e6f5d0"
                        ],
                        [
                          0.7,
                          "#b8e186"
                        ],
                        [
                          0.8,
                          "#7fbc41"
                        ],
                        [
                          0.9,
                          "#4d9221"
                        ],
                        [
                          1,
                          "#276419"
                        ]
                      ],
                      "sequential": [
                        [
                          0,
                          "#0d0887"
                        ],
                        [
                          0.1111111111111111,
                          "#46039f"
                        ],
                        [
                          0.2222222222222222,
                          "#7201a8"
                        ],
                        [
                          0.3333333333333333,
                          "#9c179e"
                        ],
                        [
                          0.4444444444444444,
                          "#bd3786"
                        ],
                        [
                          0.5555555555555556,
                          "#d8576b"
                        ],
                        [
                          0.6666666666666666,
                          "#ed7953"
                        ],
                        [
                          0.7777777777777778,
                          "#fb9f3a"
                        ],
                        [
                          0.8888888888888888,
                          "#fdca26"
                        ],
                        [
                          1,
                          "#f0f921"
                        ]
                      ],
                      "sequentialminus": [
                        [
                          0,
                          "#0d0887"
                        ],
                        [
                          0.1111111111111111,
                          "#46039f"
                        ],
                        [
                          0.2222222222222222,
                          "#7201a8"
                        ],
                        [
                          0.3333333333333333,
                          "#9c179e"
                        ],
                        [
                          0.4444444444444444,
                          "#bd3786"
                        ],
                        [
                          0.5555555555555556,
                          "#d8576b"
                        ],
                        [
                          0.6666666666666666,
                          "#ed7953"
                        ],
                        [
                          0.7777777777777778,
                          "#fb9f3a"
                        ],
                        [
                          0.8888888888888888,
                          "#fdca26"
                        ],
                        [
                          1,
                          "#f0f921"
                        ]
                      ]
                    },
                    "colorway": [
                      "#636efa",
                      "#EF553B",
                      "#00cc96",
                      "#ab63fa",
                      "#FFA15A",
                      "#19d3f3",
                      "#FF6692",
                      "#B6E880",
                      "#FF97FF",
                      "#FECB52"
                    ],
                    "font": {
                      "color": "#2a3f5f"
                    },
                    "geo": {
                      "bgcolor": "white",
                      "lakecolor": "white",
                      "landcolor": "#E5ECF6",
                      "showlakes": true,
                      "showland": true,
                      "subunitcolor": "white"
                    },
                    "hoverlabel": {
                      "align": "left"
                    },
                    "hovermode": "closest",
                    "mapbox": {
                      "style": "light"
                    },
                    "paper_bgcolor": "white",
                    "plot_bgcolor": "#E5ECF6",
                    "polar": {
                      "angularaxis": {
                        "gridcolor": "white",
                        "linecolor": "white",
                        "ticks": ""
                      },
                      "bgcolor": "#E5ECF6",
                      "radialaxis": {
                        "gridcolor": "white",
                        "linecolor": "white",
                        "ticks": ""
                      }
                    },
                    "scene": {
                      "xaxis": {
                        "backgroundcolor": "#E5ECF6",
                        "gridcolor": "white",
                        "gridwidth": 2,
                        "linecolor": "white",
                        "showbackground": true,
                        "ticks": "",
                        "zerolinecolor": "white"
                      },
                      "yaxis": {
                        "backgroundcolor": "#E5ECF6",
                        "gridcolor": "white",
                        "gridwidth": 2,
                        "linecolor": "white",
                        "showbackground": true,
                        "ticks": "",
                        "zerolinecolor": "white"
                      },
                      "zaxis": {
                        "backgroundcolor": "#E5ECF6",
                        "gridcolor": "white",
                        "gridwidth": 2,
                        "linecolor": "white",
                        "showbackground": true,
                        "ticks": "",
                        "zerolinecolor": "white"
                      }
                    },
                    "shapedefaults": {
                      "line": {
                        "color": "#2a3f5f"
                      }
                    },
                    "ternary": {
                      "aaxis": {
                        "gridcolor": "white",
                        "linecolor": "white",
                        "ticks": ""
                      },
                      "baxis": {
                        "gridcolor": "white",
                        "linecolor": "white",
                        "ticks": ""
                      },
                      "bgcolor": "#E5ECF6",
                      "caxis": {
                        "gridcolor": "white",
                        "linecolor": "white",
                        "ticks": ""
                      }
                    },
                    "title": {
                      "x": 0.05
                    },
                    "xaxis": {
                      "automargin": true,
                      "gridcolor": "white",
                      "linecolor": "white",
                      "ticks": "",
                      "title": {
                        "standoff": 15
                      },
                      "zerolinecolor": "white",
                      "zerolinewidth": 2
                    },
                    "yaxis": {
                      "automargin": true,
                      "gridcolor": "white",
                      "linecolor": "white",
                      "ticks": "",
                      "title": {
                        "standoff": 15
                      },
                      "zerolinecolor": "white",
                      "zerolinewidth": 2
                    }
                  }
                },
                "title": {
                  "text": "Top 20 equipes visitantes com maiores pontuações"
                }
              }
            }
          },
          "metadata": {},
          "output_type": "display_data"
        }
      ],
      "source": [
        "equipes = list(dict(results['away_team'].value_counts()).keys())[:20]\n",
        "valores = results['away_team'].value_counts().tolist()[:20]\n",
        "\n",
        "grafico = go.Bar(\n",
        "            x = equipes,\n",
        "            y = valores,\n",
        "            marker = dict(color = 'rgba(255, 200, 0, 100)', line = dict(color='rgb(0, 0, 0)',width = 1.0)),\n",
        "            text = equipes)\n",
        "\n",
        "layout = go.Layout()\n",
        "\n",
        "grafico = go.Figure(data = grafico, layout = layout)\n",
        "grafico.update_layout(title_text='Top 20 equipes visitantes com maiores pontuações')\n",
        "\n",
        "grafico.show()"
      ]
    },
    {
      "cell_type": "markdown",
      "metadata": {
        "id": "TZqJtwidUUMZ"
      },
      "source": [
        "**COMPARAÇÃO DE PONTUAÇÕES ENTRE TIMES DE DE CASA E VISITANTES**"
      ]
    },
    {
      "cell_type": "code",
      "execution_count": 14,
      "metadata": {
        "colab": {
          "base_uri": "https://localhost:8080/",
          "height": 542
        },
        "id": "qthAbHFy5uAN",
        "outputId": "0eaeaec3-391b-4cdf-af6d-1ae760e53c55"
      },
      "outputs": [
        {
          "data": {
            "application/vnd.plotly.v1+json": {
              "config": {
                "plotlyServerURL": "https://plot.ly"
              },
              "data": [
                {
                  "legendgroup": "Equipes VISITANTES",
                  "marker": {
                    "color": "#0884FF"
                  },
                  "mode": "lines",
                  "name": "Equipes VISITANTES",
                  "showlegend": true,
                  "type": "scatter",
                  "x": [
                    0,
                    0.048,
                    0.096,
                    0.144,
                    0.192,
                    0.24,
                    0.288,
                    0.336,
                    0.384,
                    0.432,
                    0.48,
                    0.528,
                    0.576,
                    0.624,
                    0.672,
                    0.72,
                    0.768,
                    0.816,
                    0.864,
                    0.912,
                    0.96,
                    1.008,
                    1.056,
                    1.104,
                    1.152,
                    1.2,
                    1.248,
                    1.296,
                    1.344,
                    1.392,
                    1.44,
                    1.488,
                    1.536,
                    1.584,
                    1.632,
                    1.68,
                    1.728,
                    1.776,
                    1.824,
                    1.872,
                    1.92,
                    1.968,
                    2.016,
                    2.064,
                    2.112,
                    2.16,
                    2.208,
                    2.256,
                    2.304,
                    2.352,
                    2.4,
                    2.448,
                    2.496,
                    2.544,
                    2.592,
                    2.64,
                    2.688,
                    2.736,
                    2.784,
                    2.832,
                    2.88,
                    2.928,
                    2.976,
                    3.024,
                    3.072,
                    3.12,
                    3.168,
                    3.216,
                    3.264,
                    3.312,
                    3.36,
                    3.408,
                    3.456,
                    3.504,
                    3.552,
                    3.6,
                    3.648,
                    3.696,
                    3.744,
                    3.792,
                    3.84,
                    3.888,
                    3.936,
                    3.984,
                    4.032,
                    4.08,
                    4.128,
                    4.176,
                    4.224,
                    4.272,
                    4.32,
                    4.368,
                    4.416,
                    4.464,
                    4.512,
                    4.56,
                    4.608,
                    4.656,
                    4.704,
                    4.752,
                    4.8,
                    4.848,
                    4.896,
                    4.944,
                    4.992,
                    5.04,
                    5.088,
                    5.136,
                    5.184,
                    5.232,
                    5.28,
                    5.328,
                    5.376,
                    5.424,
                    5.472,
                    5.52,
                    5.568,
                    5.616,
                    5.664,
                    5.712,
                    5.76,
                    5.808,
                    5.856,
                    5.904,
                    5.952,
                    6,
                    6.048,
                    6.096,
                    6.144,
                    6.192,
                    6.24,
                    6.288,
                    6.336,
                    6.384,
                    6.432,
                    6.48,
                    6.528,
                    6.576,
                    6.624,
                    6.672,
                    6.72,
                    6.768,
                    6.816,
                    6.864,
                    6.912,
                    6.96,
                    7.008,
                    7.056,
                    7.104,
                    7.152,
                    7.2,
                    7.248,
                    7.296,
                    7.344,
                    7.392,
                    7.44,
                    7.488,
                    7.536,
                    7.584,
                    7.632,
                    7.68,
                    7.728,
                    7.776,
                    7.824,
                    7.872,
                    7.92,
                    7.968,
                    8.016,
                    8.064,
                    8.112,
                    8.16,
                    8.208,
                    8.256,
                    8.304,
                    8.352,
                    8.4,
                    8.448,
                    8.496,
                    8.544,
                    8.592,
                    8.64,
                    8.688,
                    8.736,
                    8.784,
                    8.832,
                    8.88,
                    8.928,
                    8.976,
                    9.024,
                    9.072,
                    9.12,
                    9.168,
                    9.216,
                    9.264,
                    9.312,
                    9.36,
                    9.408,
                    9.456,
                    9.504,
                    9.552,
                    9.6,
                    9.648,
                    9.696,
                    9.744,
                    9.792,
                    9.84,
                    9.888,
                    9.936,
                    9.984,
                    10.032,
                    10.08,
                    10.128,
                    10.176,
                    10.224,
                    10.272,
                    10.32,
                    10.368,
                    10.416,
                    10.464,
                    10.512,
                    10.56,
                    10.608,
                    10.656,
                    10.704,
                    10.752,
                    10.8,
                    10.848,
                    10.896,
                    10.944,
                    10.992,
                    11.04,
                    11.088,
                    11.136,
                    11.184,
                    11.232,
                    11.28,
                    11.328,
                    11.376,
                    11.424,
                    11.472,
                    11.52,
                    11.568,
                    11.616,
                    11.664,
                    11.712,
                    11.76,
                    11.808,
                    11.856,
                    11.904,
                    11.952,
                    12,
                    12.048,
                    12.096,
                    12.144,
                    12.192,
                    12.24,
                    12.288,
                    12.336,
                    12.384,
                    12.432,
                    12.48,
                    12.528,
                    12.576,
                    12.624,
                    12.672,
                    12.72,
                    12.768,
                    12.816,
                    12.864,
                    12.912,
                    12.96,
                    13.008,
                    13.056,
                    13.104,
                    13.152,
                    13.2,
                    13.248,
                    13.296,
                    13.344,
                    13.392,
                    13.44,
                    13.488,
                    13.536,
                    13.584,
                    13.632,
                    13.68,
                    13.728,
                    13.776,
                    13.824,
                    13.872,
                    13.92,
                    13.968,
                    14.016,
                    14.064,
                    14.112,
                    14.16,
                    14.208,
                    14.256,
                    14.304,
                    14.352,
                    14.4,
                    14.448,
                    14.496,
                    14.544,
                    14.592,
                    14.64,
                    14.688,
                    14.736,
                    14.784,
                    14.832,
                    14.88,
                    14.928,
                    14.976,
                    15.024,
                    15.072,
                    15.12,
                    15.168,
                    15.216,
                    15.264,
                    15.312,
                    15.36,
                    15.408,
                    15.456,
                    15.504,
                    15.552,
                    15.6,
                    15.648,
                    15.696,
                    15.744,
                    15.792,
                    15.84,
                    15.888,
                    15.936,
                    15.984,
                    16.032,
                    16.08,
                    16.128,
                    16.176,
                    16.224,
                    16.272,
                    16.32,
                    16.368,
                    16.416,
                    16.464,
                    16.512,
                    16.56,
                    16.608,
                    16.656,
                    16.704,
                    16.752,
                    16.8,
                    16.848,
                    16.896,
                    16.944,
                    16.992,
                    17.04,
                    17.088,
                    17.136,
                    17.184,
                    17.232,
                    17.28,
                    17.328,
                    17.376,
                    17.424,
                    17.472,
                    17.52,
                    17.568,
                    17.616,
                    17.664,
                    17.712,
                    17.76,
                    17.808,
                    17.856,
                    17.904,
                    17.952,
                    18,
                    18.048,
                    18.096,
                    18.144,
                    18.192,
                    18.24,
                    18.288,
                    18.336,
                    18.384,
                    18.432,
                    18.48,
                    18.528,
                    18.576,
                    18.624,
                    18.672,
                    18.72,
                    18.768,
                    18.816,
                    18.864,
                    18.912,
                    18.96,
                    19.008,
                    19.056,
                    19.104,
                    19.152,
                    19.2,
                    19.248,
                    19.296,
                    19.344,
                    19.392,
                    19.44,
                    19.488,
                    19.536,
                    19.584,
                    19.632,
                    19.68,
                    19.728,
                    19.776,
                    19.824,
                    19.872,
                    19.92,
                    19.968,
                    20.016,
                    20.064,
                    20.112,
                    20.16,
                    20.208,
                    20.256,
                    20.304,
                    20.352,
                    20.4,
                    20.448,
                    20.496,
                    20.544,
                    20.592,
                    20.64,
                    20.688,
                    20.736,
                    20.784,
                    20.832,
                    20.88,
                    20.928,
                    20.976,
                    21.024,
                    21.072,
                    21.12,
                    21.168,
                    21.216,
                    21.264,
                    21.312,
                    21.36,
                    21.408,
                    21.456,
                    21.504,
                    21.552,
                    21.6,
                    21.648,
                    21.696,
                    21.744,
                    21.792,
                    21.84,
                    21.888,
                    21.936,
                    21.984,
                    22.032,
                    22.08,
                    22.128,
                    22.176,
                    22.224,
                    22.272,
                    22.32,
                    22.368,
                    22.416,
                    22.464,
                    22.512,
                    22.56,
                    22.608,
                    22.656,
                    22.704,
                    22.752,
                    22.8,
                    22.848,
                    22.896,
                    22.944,
                    22.992,
                    23.04,
                    23.088,
                    23.136,
                    23.184,
                    23.232,
                    23.28,
                    23.328,
                    23.376,
                    23.424,
                    23.472,
                    23.52,
                    23.568,
                    23.616,
                    23.664,
                    23.712,
                    23.76,
                    23.808,
                    23.856,
                    23.904,
                    23.952
                  ],
                  "xaxis": "x",
                  "y": {
                    "bdata": "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",
                    "dtype": "f8"
                  },
                  "yaxis": "y"
                },
                {
                  "legendgroup": "Equipes de CASA",
                  "marker": {
                    "color": "#CE30B4"
                  },
                  "mode": "lines",
                  "name": "Equipes de CASA",
                  "showlegend": true,
                  "type": "scatter",
                  "x": [
                    0,
                    0.048,
                    0.096,
                    0.144,
                    0.192,
                    0.24,
                    0.288,
                    0.336,
                    0.384,
                    0.432,
                    0.48,
                    0.528,
                    0.576,
                    0.624,
                    0.672,
                    0.72,
                    0.768,
                    0.816,
                    0.864,
                    0.912,
                    0.96,
                    1.008,
                    1.056,
                    1.104,
                    1.152,
                    1.2,
                    1.248,
                    1.296,
                    1.344,
                    1.392,
                    1.44,
                    1.488,
                    1.536,
                    1.584,
                    1.632,
                    1.68,
                    1.728,
                    1.776,
                    1.824,
                    1.872,
                    1.92,
                    1.968,
                    2.016,
                    2.064,
                    2.112,
                    2.16,
                    2.208,
                    2.256,
                    2.304,
                    2.352,
                    2.4,
                    2.448,
                    2.496,
                    2.544,
                    2.592,
                    2.64,
                    2.688,
                    2.736,
                    2.784,
                    2.832,
                    2.88,
                    2.928,
                    2.976,
                    3.024,
                    3.072,
                    3.12,
                    3.168,
                    3.216,
                    3.264,
                    3.312,
                    3.36,
                    3.408,
                    3.456,
                    3.504,
                    3.552,
                    3.6,
                    3.648,
                    3.696,
                    3.744,
                    3.792,
                    3.84,
                    3.888,
                    3.936,
                    3.984,
                    4.032,
                    4.08,
                    4.128,
                    4.176,
                    4.224,
                    4.272,
                    4.32,
                    4.368,
                    4.416,
                    4.464,
                    4.512,
                    4.56,
                    4.608,
                    4.656,
                    4.704,
                    4.752,
                    4.8,
                    4.848,
                    4.896,
                    4.944,
                    4.992,
                    5.04,
                    5.088,
                    5.136,
                    5.184,
                    5.232,
                    5.28,
                    5.328,
                    5.376,
                    5.424,
                    5.472,
                    5.52,
                    5.568,
                    5.616,
                    5.664,
                    5.712,
                    5.76,
                    5.808,
                    5.856,
                    5.904,
                    5.952,
                    6,
                    6.048,
                    6.096,
                    6.144,
                    6.192,
                    6.24,
                    6.288,
                    6.336,
                    6.384,
                    6.432,
                    6.48,
                    6.528,
                    6.576,
                    6.624,
                    6.672,
                    6.72,
                    6.768,
                    6.816,
                    6.864,
                    6.912,
                    6.96,
                    7.008,
                    7.056,
                    7.104,
                    7.152,
                    7.2,
                    7.248,
                    7.296,
                    7.344,
                    7.392,
                    7.44,
                    7.488,
                    7.536,
                    7.584,
                    7.632,
                    7.68,
                    7.728,
                    7.776,
                    7.824,
                    7.872,
                    7.92,
                    7.968,
                    8.016,
                    8.064,
                    8.112,
                    8.16,
                    8.208,
                    8.256,
                    8.304,
                    8.352,
                    8.4,
                    8.448,
                    8.496,
                    8.544,
                    8.592,
                    8.64,
                    8.688,
                    8.736,
                    8.784,
                    8.832,
                    8.88,
                    8.928,
                    8.976,
                    9.024,
                    9.072,
                    9.12,
                    9.168,
                    9.216,
                    9.264,
                    9.312,
                    9.36,
                    9.408,
                    9.456,
                    9.504,
                    9.552,
                    9.6,
                    9.648,
                    9.696,
                    9.744,
                    9.792,
                    9.84,
                    9.888,
                    9.936,
                    9.984,
                    10.032,
                    10.08,
                    10.128,
                    10.176,
                    10.224,
                    10.272,
                    10.32,
                    10.368,
                    10.416,
                    10.464,
                    10.512,
                    10.56,
                    10.608,
                    10.656,
                    10.704,
                    10.752,
                    10.8,
                    10.848,
                    10.896,
                    10.944,
                    10.992,
                    11.04,
                    11.088,
                    11.136,
                    11.184,
                    11.232,
                    11.28,
                    11.328,
                    11.376,
                    11.424,
                    11.472,
                    11.52,
                    11.568,
                    11.616,
                    11.664,
                    11.712,
                    11.76,
                    11.808,
                    11.856,
                    11.904,
                    11.952,
                    12,
                    12.048,
                    12.096,
                    12.144,
                    12.192,
                    12.24,
                    12.288,
                    12.336,
                    12.384,
                    12.432,
                    12.48,
                    12.528,
                    12.576,
                    12.624,
                    12.672,
                    12.72,
                    12.768,
                    12.816,
                    12.864,
                    12.912,
                    12.96,
                    13.008,
                    13.056,
                    13.104,
                    13.152,
                    13.2,
                    13.248,
                    13.296,
                    13.344,
                    13.392,
                    13.44,
                    13.488,
                    13.536,
                    13.584,
                    13.632,
                    13.68,
                    13.728,
                    13.776,
                    13.824,
                    13.872,
                    13.92,
                    13.968,
                    14.016,
                    14.064,
                    14.112,
                    14.16,
                    14.208,
                    14.256,
                    14.304,
                    14.352,
                    14.4,
                    14.448,
                    14.496,
                    14.544,
                    14.592,
                    14.64,
                    14.688,
                    14.736,
                    14.784,
                    14.832,
                    14.88,
                    14.928,
                    14.976,
                    15.024,
                    15.072,
                    15.12,
                    15.168,
                    15.216,
                    15.264,
                    15.312,
                    15.36,
                    15.408,
                    15.456,
                    15.504,
                    15.552,
                    15.6,
                    15.648,
                    15.696,
                    15.744,
                    15.792,
                    15.84,
                    15.888,
                    15.936,
                    15.984,
                    16.032,
                    16.08,
                    16.128,
                    16.176,
                    16.224,
                    16.272,
                    16.32,
                    16.368,
                    16.416,
                    16.464,
                    16.512,
                    16.56,
                    16.608,
                    16.656,
                    16.704,
                    16.752,
                    16.8,
                    16.848,
                    16.896,
                    16.944,
                    16.992,
                    17.04,
                    17.088,
                    17.136,
                    17.184,
                    17.232,
                    17.28,
                    17.328,
                    17.376,
                    17.424,
                    17.472,
                    17.52,
                    17.568,
                    17.616,
                    17.664,
                    17.712,
                    17.76,
                    17.808,
                    17.856,
                    17.904,
                    17.952,
                    18,
                    18.048,
                    18.096,
                    18.144,
                    18.192,
                    18.24,
                    18.288,
                    18.336,
                    18.384,
                    18.432,
                    18.48,
                    18.528,
                    18.576,
                    18.624,
                    18.672,
                    18.72,
                    18.768,
                    18.816,
                    18.864,
                    18.912,
                    18.96,
                    19.008,
                    19.056,
                    19.104,
                    19.152,
                    19.2,
                    19.248,
                    19.296,
                    19.344,
                    19.392,
                    19.44,
                    19.488,
                    19.536,
                    19.584,
                    19.632,
                    19.68,
                    19.728,
                    19.776,
                    19.824,
                    19.872,
                    19.92,
                    19.968,
                    20.016,
                    20.064,
                    20.112,
                    20.16,
                    20.208,
                    20.256,
                    20.304,
                    20.352,
                    20.4,
                    20.448,
                    20.496,
                    20.544,
                    20.592,
                    20.64,
                    20.688,
                    20.736,
                    20.784,
                    20.832,
                    20.88,
                    20.928,
                    20.976,
                    21.024,
                    21.072,
                    21.12,
                    21.168,
                    21.216,
                    21.264,
                    21.312,
                    21.36,
                    21.408,
                    21.456,
                    21.504,
                    21.552,
                    21.6,
                    21.648,
                    21.696,
                    21.744,
                    21.792,
                    21.84,
                    21.888,
                    21.936,
                    21.984,
                    22.032,
                    22.08,
                    22.128,
                    22.176,
                    22.224,
                    22.272,
                    22.32,
                    22.368,
                    22.416,
                    22.464,
                    22.512,
                    22.56,
                    22.608,
                    22.656,
                    22.704,
                    22.752,
                    22.8,
                    22.848,
                    22.896,
                    22.944,
                    22.992,
                    23.04,
                    23.088,
                    23.136,
                    23.184,
                    23.232,
                    23.28,
                    23.328,
                    23.376,
                    23.424,
                    23.472,
                    23.52,
                    23.568,
                    23.616,
                    23.664,
                    23.712,
                    23.76,
                    23.808,
                    23.856,
                    23.904,
                    23.952
                  ],
                  "xaxis": "x",
                  "y": {
                    "bdata": "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",
                    "dtype": "f8"
                  },
                  "yaxis": "y"
                }
              ],
              "layout": {
                "barmode": "overlay",
                "hovermode": "closest",
                "legend": {
                  "traceorder": "reversed"
                },
                "template": {
                  "data": {
                    "bar": [
                      {
                        "error_x": {
                          "color": "#2a3f5f"
                        },
                        "error_y": {
                          "color": "#2a3f5f"
                        },
                        "marker": {
                          "line": {
                            "color": "#E5ECF6",
                            "width": 0.5
                          },
                          "pattern": {
                            "fillmode": "overlay",
                            "size": 10,
                            "solidity": 0.2
                          }
                        },
                        "type": "bar"
                      }
                    ],
                    "barpolar": [
                      {
                        "marker": {
                          "line": {
                            "color": "#E5ECF6",
                            "width": 0.5
                          },
                          "pattern": {
                            "fillmode": "overlay",
                            "size": 10,
                            "solidity": 0.2
                          }
                        },
                        "type": "barpolar"
                      }
                    ],
                    "carpet": [
                      {
                        "aaxis": {
                          "endlinecolor": "#2a3f5f",
                          "gridcolor": "white",
                          "linecolor": "white",
                          "minorgridcolor": "white",
                          "startlinecolor": "#2a3f5f"
                        },
                        "baxis": {
                          "endlinecolor": "#2a3f5f",
                          "gridcolor": "white",
                          "linecolor": "white",
                          "minorgridcolor": "white",
                          "startlinecolor": "#2a3f5f"
                        },
                        "type": "carpet"
                      }
                    ],
                    "choropleth": [
                      {
                        "colorbar": {
                          "outlinewidth": 0,
                          "ticks": ""
                        },
                        "type": "choropleth"
                      }
                    ],
                    "contour": [
                      {
                        "colorbar": {
                          "outlinewidth": 0,
                          "ticks": ""
                        },
                        "colorscale": [
                          [
                            0,
                            "#0d0887"
                          ],
                          [
                            0.1111111111111111,
                            "#46039f"
                          ],
                          [
                            0.2222222222222222,
                            "#7201a8"
                          ],
                          [
                            0.3333333333333333,
                            "#9c179e"
                          ],
                          [
                            0.4444444444444444,
                            "#bd3786"
                          ],
                          [
                            0.5555555555555556,
                            "#d8576b"
                          ],
                          [
                            0.6666666666666666,
                            "#ed7953"
                          ],
                          [
                            0.7777777777777778,
                            "#fb9f3a"
                          ],
                          [
                            0.8888888888888888,
                            "#fdca26"
                          ],
                          [
                            1,
                            "#f0f921"
                          ]
                        ],
                        "type": "contour"
                      }
                    ],
                    "contourcarpet": [
                      {
                        "colorbar": {
                          "outlinewidth": 0,
                          "ticks": ""
                        },
                        "type": "contourcarpet"
                      }
                    ],
                    "heatmap": [
                      {
                        "colorbar": {
                          "outlinewidth": 0,
                          "ticks": ""
                        },
                        "colorscale": [
                          [
                            0,
                            "#0d0887"
                          ],
                          [
                            0.1111111111111111,
                            "#46039f"
                          ],
                          [
                            0.2222222222222222,
                            "#7201a8"
                          ],
                          [
                            0.3333333333333333,
                            "#9c179e"
                          ],
                          [
                            0.4444444444444444,
                            "#bd3786"
                          ],
                          [
                            0.5555555555555556,
                            "#d8576b"
                          ],
                          [
                            0.6666666666666666,
                            "#ed7953"
                          ],
                          [
                            0.7777777777777778,
                            "#fb9f3a"
                          ],
                          [
                            0.8888888888888888,
                            "#fdca26"
                          ],
                          [
                            1,
                            "#f0f921"
                          ]
                        ],
                        "type": "heatmap"
                      }
                    ],
                    "histogram": [
                      {
                        "marker": {
                          "pattern": {
                            "fillmode": "overlay",
                            "size": 10,
                            "solidity": 0.2
                          }
                        },
                        "type": "histogram"
                      }
                    ],
                    "histogram2d": [
                      {
                        "colorbar": {
                          "outlinewidth": 0,
                          "ticks": ""
                        },
                        "colorscale": [
                          [
                            0,
                            "#0d0887"
                          ],
                          [
                            0.1111111111111111,
                            "#46039f"
                          ],
                          [
                            0.2222222222222222,
                            "#7201a8"
                          ],
                          [
                            0.3333333333333333,
                            "#9c179e"
                          ],
                          [
                            0.4444444444444444,
                            "#bd3786"
                          ],
                          [
                            0.5555555555555556,
                            "#d8576b"
                          ],
                          [
                            0.6666666666666666,
                            "#ed7953"
                          ],
                          [
                            0.7777777777777778,
                            "#fb9f3a"
                          ],
                          [
                            0.8888888888888888,
                            "#fdca26"
                          ],
                          [
                            1,
                            "#f0f921"
                          ]
                        ],
                        "type": "histogram2d"
                      }
                    ],
                    "histogram2dcontour": [
                      {
                        "colorbar": {
                          "outlinewidth": 0,
                          "ticks": ""
                        },
                        "colorscale": [
                          [
                            0,
                            "#0d0887"
                          ],
                          [
                            0.1111111111111111,
                            "#46039f"
                          ],
                          [
                            0.2222222222222222,
                            "#7201a8"
                          ],
                          [
                            0.3333333333333333,
                            "#9c179e"
                          ],
                          [
                            0.4444444444444444,
                            "#bd3786"
                          ],
                          [
                            0.5555555555555556,
                            "#d8576b"
                          ],
                          [
                            0.6666666666666666,
                            "#ed7953"
                          ],
                          [
                            0.7777777777777778,
                            "#fb9f3a"
                          ],
                          [
                            0.8888888888888888,
                            "#fdca26"
                          ],
                          [
                            1,
                            "#f0f921"
                          ]
                        ],
                        "type": "histogram2dcontour"
                      }
                    ],
                    "mesh3d": [
                      {
                        "colorbar": {
                          "outlinewidth": 0,
                          "ticks": ""
                        },
                        "type": "mesh3d"
                      }
                    ],
                    "parcoords": [
                      {
                        "line": {
                          "colorbar": {
                            "outlinewidth": 0,
                            "ticks": ""
                          }
                        },
                        "type": "parcoords"
                      }
                    ],
                    "pie": [
                      {
                        "automargin": true,
                        "type": "pie"
                      }
                    ],
                    "scatter": [
                      {
                        "fillpattern": {
                          "fillmode": "overlay",
                          "size": 10,
                          "solidity": 0.2
                        },
                        "type": "scatter"
                      }
                    ],
                    "scatter3d": [
                      {
                        "line": {
                          "colorbar": {
                            "outlinewidth": 0,
                            "ticks": ""
                          }
                        },
                        "marker": {
                          "colorbar": {
                            "outlinewidth": 0,
                            "ticks": ""
                          }
                        },
                        "type": "scatter3d"
                      }
                    ],
                    "scattercarpet": [
                      {
                        "marker": {
                          "colorbar": {
                            "outlinewidth": 0,
                            "ticks": ""
                          }
                        },
                        "type": "scattercarpet"
                      }
                    ],
                    "scattergeo": [
                      {
                        "marker": {
                          "colorbar": {
                            "outlinewidth": 0,
                            "ticks": ""
                          }
                        },
                        "type": "scattergeo"
                      }
                    ],
                    "scattergl": [
                      {
                        "marker": {
                          "colorbar": {
                            "outlinewidth": 0,
                            "ticks": ""
                          }
                        },
                        "type": "scattergl"
                      }
                    ],
                    "scattermap": [
                      {
                        "marker": {
                          "colorbar": {
                            "outlinewidth": 0,
                            "ticks": ""
                          }
                        },
                        "type": "scattermap"
                      }
                    ],
                    "scattermapbox": [
                      {
                        "marker": {
                          "colorbar": {
                            "outlinewidth": 0,
                            "ticks": ""
                          }
                        },
                        "type": "scattermapbox"
                      }
                    ],
                    "scatterpolar": [
                      {
                        "marker": {
                          "colorbar": {
                            "outlinewidth": 0,
                            "ticks": ""
                          }
                        },
                        "type": "scatterpolar"
                      }
                    ],
                    "scatterpolargl": [
                      {
                        "marker": {
                          "colorbar": {
                            "outlinewidth": 0,
                            "ticks": ""
                          }
                        },
                        "type": "scatterpolargl"
                      }
                    ],
                    "scatterternary": [
                      {
                        "marker": {
                          "colorbar": {
                            "outlinewidth": 0,
                            "ticks": ""
                          }
                        },
                        "type": "scatterternary"
                      }
                    ],
                    "surface": [
                      {
                        "colorbar": {
                          "outlinewidth": 0,
                          "ticks": ""
                        },
                        "colorscale": [
                          [
                            0,
                            "#0d0887"
                          ],
                          [
                            0.1111111111111111,
                            "#46039f"
                          ],
                          [
                            0.2222222222222222,
                            "#7201a8"
                          ],
                          [
                            0.3333333333333333,
                            "#9c179e"
                          ],
                          [
                            0.4444444444444444,
                            "#bd3786"
                          ],
                          [
                            0.5555555555555556,
                            "#d8576b"
                          ],
                          [
                            0.6666666666666666,
                            "#ed7953"
                          ],
                          [
                            0.7777777777777778,
                            "#fb9f3a"
                          ],
                          [
                            0.8888888888888888,
                            "#fdca26"
                          ],
                          [
                            1,
                            "#f0f921"
                          ]
                        ],
                        "type": "surface"
                      }
                    ],
                    "table": [
                      {
                        "cells": {
                          "fill": {
                            "color": "#EBF0F8"
                          },
                          "line": {
                            "color": "white"
                          }
                        },
                        "header": {
                          "fill": {
                            "color": "#C8D4E3"
                          },
                          "line": {
                            "color": "white"
                          }
                        },
                        "type": "table"
                      }
                    ]
                  },
                  "layout": {
                    "annotationdefaults": {
                      "arrowcolor": "#2a3f5f",
                      "arrowhead": 0,
                      "arrowwidth": 1
                    },
                    "autotypenumbers": "strict",
                    "coloraxis": {
                      "colorbar": {
                        "outlinewidth": 0,
                        "ticks": ""
                      }
                    },
                    "colorscale": {
                      "diverging": [
                        [
                          0,
                          "#8e0152"
                        ],
                        [
                          0.1,
                          "#c51b7d"
                        ],
                        [
                          0.2,
                          "#de77ae"
                        ],
                        [
                          0.3,
                          "#f1b6da"
                        ],
                        [
                          0.4,
                          "#fde0ef"
                        ],
                        [
                          0.5,
                          "#f7f7f7"
                        ],
                        [
                          0.6,
                          "#e6f5d0"
                        ],
                        [
                          0.7,
                          "#b8e186"
                        ],
                        [
                          0.8,
                          "#7fbc41"
                        ],
                        [
                          0.9,
                          "#4d9221"
                        ],
                        [
                          1,
                          "#276419"
                        ]
                      ],
                      "sequential": [
                        [
                          0,
                          "#0d0887"
                        ],
                        [
                          0.1111111111111111,
                          "#46039f"
                        ],
                        [
                          0.2222222222222222,
                          "#7201a8"
                        ],
                        [
                          0.3333333333333333,
                          "#9c179e"
                        ],
                        [
                          0.4444444444444444,
                          "#bd3786"
                        ],
                        [
                          0.5555555555555556,
                          "#d8576b"
                        ],
                        [
                          0.6666666666666666,
                          "#ed7953"
                        ],
                        [
                          0.7777777777777778,
                          "#fb9f3a"
                        ],
                        [
                          0.8888888888888888,
                          "#fdca26"
                        ],
                        [
                          1,
                          "#f0f921"
                        ]
                      ],
                      "sequentialminus": [
                        [
                          0,
                          "#0d0887"
                        ],
                        [
                          0.1111111111111111,
                          "#46039f"
                        ],
                        [
                          0.2222222222222222,
                          "#7201a8"
                        ],
                        [
                          0.3333333333333333,
                          "#9c179e"
                        ],
                        [
                          0.4444444444444444,
                          "#bd3786"
                        ],
                        [
                          0.5555555555555556,
                          "#d8576b"
                        ],
                        [
                          0.6666666666666666,
                          "#ed7953"
                        ],
                        [
                          0.7777777777777778,
                          "#fb9f3a"
                        ],
                        [
                          0.8888888888888888,
                          "#fdca26"
                        ],
                        [
                          1,
                          "#f0f921"
                        ]
                      ]
                    },
                    "colorway": [
                      "#636efa",
                      "#EF553B",
                      "#00cc96",
                      "#ab63fa",
                      "#FFA15A",
                      "#19d3f3",
                      "#FF6692",
                      "#B6E880",
                      "#FF97FF",
                      "#FECB52"
                    ],
                    "font": {
                      "color": "#2a3f5f"
                    },
                    "geo": {
                      "bgcolor": "white",
                      "lakecolor": "white",
                      "landcolor": "#E5ECF6",
                      "showlakes": true,
                      "showland": true,
                      "subunitcolor": "white"
                    },
                    "hoverlabel": {
                      "align": "left"
                    },
                    "hovermode": "closest",
                    "mapbox": {
                      "style": "light"
                    },
                    "paper_bgcolor": "white",
                    "plot_bgcolor": "#E5ECF6",
                    "polar": {
                      "angularaxis": {
                        "gridcolor": "white",
                        "linecolor": "white",
                        "ticks": ""
                      },
                      "bgcolor": "#E5ECF6",
                      "radialaxis": {
                        "gridcolor": "white",
                        "linecolor": "white",
                        "ticks": ""
                      }
                    },
                    "scene": {
                      "xaxis": {
                        "backgroundcolor": "#E5ECF6",
                        "gridcolor": "white",
                        "gridwidth": 2,
                        "linecolor": "white",
                        "showbackground": true,
                        "ticks": "",
                        "zerolinecolor": "white"
                      },
                      "yaxis": {
                        "backgroundcolor": "#E5ECF6",
                        "gridcolor": "white",
                        "gridwidth": 2,
                        "linecolor": "white",
                        "showbackground": true,
                        "ticks": "",
                        "zerolinecolor": "white"
                      },
                      "zaxis": {
                        "backgroundcolor": "#E5ECF6",
                        "gridcolor": "white",
                        "gridwidth": 2,
                        "linecolor": "white",
                        "showbackground": true,
                        "ticks": "",
                        "zerolinecolor": "white"
                      }
                    },
                    "shapedefaults": {
                      "line": {
                        "color": "#2a3f5f"
                      }
                    },
                    "ternary": {
                      "aaxis": {
                        "gridcolor": "white",
                        "linecolor": "white",
                        "ticks": ""
                      },
                      "baxis": {
                        "gridcolor": "white",
                        "linecolor": "white",
                        "ticks": ""
                      },
                      "bgcolor": "#E5ECF6",
                      "caxis": {
                        "gridcolor": "white",
                        "linecolor": "white",
                        "ticks": ""
                      }
                    },
                    "title": {
                      "x": 0.05
                    },
                    "xaxis": {
                      "automargin": true,
                      "gridcolor": "white",
                      "linecolor": "white",
                      "ticks": "",
                      "title": {
                        "standoff": 15
                      },
                      "zerolinecolor": "white",
                      "zerolinewidth": 2
                    },
                    "yaxis": {
                      "automargin": true,
                      "gridcolor": "white",
                      "linecolor": "white",
                      "ticks": "",
                      "title": {
                        "standoff": 15
                      },
                      "zerolinecolor": "white",
                      "zerolinewidth": 2
                    }
                  }
                },
                "title": {
                  "text": "Distribuição das pontuações<br>Média entre as pontuações: 1.85 "
                },
                "xaxis": {
                  "anchor": "y2",
                  "domain": [
                    0,
                    1
                  ],
                  "zeroline": false
                },
                "yaxis": {
                  "anchor": "free",
                  "domain": [
                    0,
                    1
                  ],
                  "position": 0
                }
              }
            }
          },
          "metadata": {},
          "output_type": "display_data"
        }
      ],
      "source": [
        "import plotly.figure_factory as ff\n",
        "\n",
        "grafico = ff.create_distplot(\n",
        "    hist_data = [results['away_score'].tolist(), results['home_score'].tolist()],\n",
        "    group_labels = ['Equipes VISITANTES', 'Equipes de CASA'],\n",
        "    colors = ['#0884FF', '#CE30B4'],\n",
        "    show_hist = False,\n",
        "    show_rug = False)\n",
        "\n",
        "total = ((results['away_score'].mean() + results['home_score'].mean()) / 2)\n",
        "\n",
        "grafico.layout.update({'title':f\"Distribuição das pontuações<br>Média entre as pontuações: {total:.2f} \"})\n",
        "\n",
        "grafico.show()"
      ]
    },
    {
      "cell_type": "markdown",
      "metadata": {
        "id": "qu9Be8TpUkz3"
      },
      "source": [
        "**QUAIS OS CAMPEONATOS INTERNACIONAIS MAIS POPULARES ?**"
      ]
    },
    {
      "cell_type": "code",
      "execution_count": 15,
      "metadata": {
        "colab": {
          "base_uri": "https://localhost:8080/",
          "height": 542
        },
        "id": "Q7SEzN4H52DD",
        "outputId": "f08c080b-aab7-497a-cdc8-3ffed4bb332d"
      },
      "outputs": [
        {
          "data": {
            "application/vnd.plotly.v1+json": {
              "config": {
                "plotlyServerURL": "https://plot.ly"
              },
              "data": [
                {
                  "marker": {
                    "color": "rgba(255, 0, 255, 0.5)",
                    "line": {
                      "color": "rgb(0, 0, 50)",
                      "width": 1
                    }
                  },
                  "text": [
                    "UEFA Euro qualification",
                    "Algarve Cup",
                    "FIFA World Cup",
                    "AFC Championship",
                    "Cyprus Cup",
                    "African Championship qualification",
                    "UEFA Euro",
                    "African Championship",
                    "FIFA World Cup qualification",
                    "CONCACAF Gold Cup qualification",
                    "AFC Asian Cup qualification",
                    "Copa América",
                    "Olympic Games",
                    "CONCACAF Gold Cup",
                    "AFC Asian Cup",
                    "Friendly",
                    "Four Nations Tournament",
                    "OFC Championship",
                    "African Cup of Nations qualification",
                    "CONCACAF Championship",
                    "SheBelieves Cup",
                    "Euro",
                    "OFC Nations Cup",
                    "African Cup of Nations",
                    "Olympic Games qualification",
                    "Tournoi de France",
                    "Tournament of Nations",
                    "CONCACAF Invitational Tournament",
                    "OFC Nations Cup qualification",
                    "Basque Country Women's Cup"
                  ],
                  "type": "bar",
                  "x": [
                    "UEFA Euro qualification",
                    "Algarve Cup",
                    "FIFA World Cup",
                    "AFC Championship",
                    "Cyprus Cup",
                    "African Championship qualification",
                    "UEFA Euro",
                    "African Championship",
                    "FIFA World Cup qualification",
                    "CONCACAF Gold Cup qualification",
                    "AFC Asian Cup qualification",
                    "Copa América",
                    "Olympic Games",
                    "CONCACAF Gold Cup",
                    "AFC Asian Cup",
                    "Friendly",
                    "Four Nations Tournament",
                    "OFC Championship",
                    "African Cup of Nations qualification",
                    "CONCACAF Championship",
                    "SheBelieves Cup",
                    "Euro",
                    "OFC Nations Cup",
                    "African Cup of Nations",
                    "Olympic Games qualification",
                    "Tournoi de France",
                    "Tournament of Nations",
                    "CONCACAF Invitational Tournament",
                    "OFC Nations Cup qualification",
                    "Basque Country Women's Cup"
                  ],
                  "y": [
                    1445,
                    551,
                    284,
                    268,
                    258,
                    226,
                    184,
                    173,
                    172,
                    143,
                    141,
                    131,
                    130,
                    126,
                    111,
                    111,
                    106,
                    78,
                    58,
                    42,
                    39,
                    20,
                    16,
                    16,
                    15,
                    12,
                    12,
                    6,
                    6,
                    4
                  ]
                }
              ],
              "layout": {
                "template": {
                  "data": {
                    "bar": [
                      {
                        "error_x": {
                          "color": "#2a3f5f"
                        },
                        "error_y": {
                          "color": "#2a3f5f"
                        },
                        "marker": {
                          "line": {
                            "color": "#E5ECF6",
                            "width": 0.5
                          },
                          "pattern": {
                            "fillmode": "overlay",
                            "size": 10,
                            "solidity": 0.2
                          }
                        },
                        "type": "bar"
                      }
                    ],
                    "barpolar": [
                      {
                        "marker": {
                          "line": {
                            "color": "#E5ECF6",
                            "width": 0.5
                          },
                          "pattern": {
                            "fillmode": "overlay",
                            "size": 10,
                            "solidity": 0.2
                          }
                        },
                        "type": "barpolar"
                      }
                    ],
                    "carpet": [
                      {
                        "aaxis": {
                          "endlinecolor": "#2a3f5f",
                          "gridcolor": "white",
                          "linecolor": "white",
                          "minorgridcolor": "white",
                          "startlinecolor": "#2a3f5f"
                        },
                        "baxis": {
                          "endlinecolor": "#2a3f5f",
                          "gridcolor": "white",
                          "linecolor": "white",
                          "minorgridcolor": "white",
                          "startlinecolor": "#2a3f5f"
                        },
                        "type": "carpet"
                      }
                    ],
                    "choropleth": [
                      {
                        "colorbar": {
                          "outlinewidth": 0,
                          "ticks": ""
                        },
                        "type": "choropleth"
                      }
                    ],
                    "contour": [
                      {
                        "colorbar": {
                          "outlinewidth": 0,
                          "ticks": ""
                        },
                        "colorscale": [
                          [
                            0,
                            "#0d0887"
                          ],
                          [
                            0.1111111111111111,
                            "#46039f"
                          ],
                          [
                            0.2222222222222222,
                            "#7201a8"
                          ],
                          [
                            0.3333333333333333,
                            "#9c179e"
                          ],
                          [
                            0.4444444444444444,
                            "#bd3786"
                          ],
                          [
                            0.5555555555555556,
                            "#d8576b"
                          ],
                          [
                            0.6666666666666666,
                            "#ed7953"
                          ],
                          [
                            0.7777777777777778,
                            "#fb9f3a"
                          ],
                          [
                            0.8888888888888888,
                            "#fdca26"
                          ],
                          [
                            1,
                            "#f0f921"
                          ]
                        ],
                        "type": "contour"
                      }
                    ],
                    "contourcarpet": [
                      {
                        "colorbar": {
                          "outlinewidth": 0,
                          "ticks": ""
                        },
                        "type": "contourcarpet"
                      }
                    ],
                    "heatmap": [
                      {
                        "colorbar": {
                          "outlinewidth": 0,
                          "ticks": ""
                        },
                        "colorscale": [
                          [
                            0,
                            "#0d0887"
                          ],
                          [
                            0.1111111111111111,
                            "#46039f"
                          ],
                          [
                            0.2222222222222222,
                            "#7201a8"
                          ],
                          [
                            0.3333333333333333,
                            "#9c179e"
                          ],
                          [
                            0.4444444444444444,
                            "#bd3786"
                          ],
                          [
                            0.5555555555555556,
                            "#d8576b"
                          ],
                          [
                            0.6666666666666666,
                            "#ed7953"
                          ],
                          [
                            0.7777777777777778,
                            "#fb9f3a"
                          ],
                          [
                            0.8888888888888888,
                            "#fdca26"
                          ],
                          [
                            1,
                            "#f0f921"
                          ]
                        ],
                        "type": "heatmap"
                      }
                    ],
                    "histogram": [
                      {
                        "marker": {
                          "pattern": {
                            "fillmode": "overlay",
                            "size": 10,
                            "solidity": 0.2
                          }
                        },
                        "type": "histogram"
                      }
                    ],
                    "histogram2d": [
                      {
                        "colorbar": {
                          "outlinewidth": 0,
                          "ticks": ""
                        },
                        "colorscale": [
                          [
                            0,
                            "#0d0887"
                          ],
                          [
                            0.1111111111111111,
                            "#46039f"
                          ],
                          [
                            0.2222222222222222,
                            "#7201a8"
                          ],
                          [
                            0.3333333333333333,
                            "#9c179e"
                          ],
                          [
                            0.4444444444444444,
                            "#bd3786"
                          ],
                          [
                            0.5555555555555556,
                            "#d8576b"
                          ],
                          [
                            0.6666666666666666,
                            "#ed7953"
                          ],
                          [
                            0.7777777777777778,
                            "#fb9f3a"
                          ],
                          [
                            0.8888888888888888,
                            "#fdca26"
                          ],
                          [
                            1,
                            "#f0f921"
                          ]
                        ],
                        "type": "histogram2d"
                      }
                    ],
                    "histogram2dcontour": [
                      {
                        "colorbar": {
                          "outlinewidth": 0,
                          "ticks": ""
                        },
                        "colorscale": [
                          [
                            0,
                            "#0d0887"
                          ],
                          [
                            0.1111111111111111,
                            "#46039f"
                          ],
                          [
                            0.2222222222222222,
                            "#7201a8"
                          ],
                          [
                            0.3333333333333333,
                            "#9c179e"
                          ],
                          [
                            0.4444444444444444,
                            "#bd3786"
                          ],
                          [
                            0.5555555555555556,
                            "#d8576b"
                          ],
                          [
                            0.6666666666666666,
                            "#ed7953"
                          ],
                          [
                            0.7777777777777778,
                            "#fb9f3a"
                          ],
                          [
                            0.8888888888888888,
                            "#fdca26"
                          ],
                          [
                            1,
                            "#f0f921"
                          ]
                        ],
                        "type": "histogram2dcontour"
                      }
                    ],
                    "mesh3d": [
                      {
                        "colorbar": {
                          "outlinewidth": 0,
                          "ticks": ""
                        },
                        "type": "mesh3d"
                      }
                    ],
                    "parcoords": [
                      {
                        "line": {
                          "colorbar": {
                            "outlinewidth": 0,
                            "ticks": ""
                          }
                        },
                        "type": "parcoords"
                      }
                    ],
                    "pie": [
                      {
                        "automargin": true,
                        "type": "pie"
                      }
                    ],
                    "scatter": [
                      {
                        "fillpattern": {
                          "fillmode": "overlay",
                          "size": 10,
                          "solidity": 0.2
                        },
                        "type": "scatter"
                      }
                    ],
                    "scatter3d": [
                      {
                        "line": {
                          "colorbar": {
                            "outlinewidth": 0,
                            "ticks": ""
                          }
                        },
                        "marker": {
                          "colorbar": {
                            "outlinewidth": 0,
                            "ticks": ""
                          }
                        },
                        "type": "scatter3d"
                      }
                    ],
                    "scattercarpet": [
                      {
                        "marker": {
                          "colorbar": {
                            "outlinewidth": 0,
                            "ticks": ""
                          }
                        },
                        "type": "scattercarpet"
                      }
                    ],
                    "scattergeo": [
                      {
                        "marker": {
                          "colorbar": {
                            "outlinewidth": 0,
                            "ticks": ""
                          }
                        },
                        "type": "scattergeo"
                      }
                    ],
                    "scattergl": [
                      {
                        "marker": {
                          "colorbar": {
                            "outlinewidth": 0,
                            "ticks": ""
                          }
                        },
                        "type": "scattergl"
                      }
                    ],
                    "scattermap": [
                      {
                        "marker": {
                          "colorbar": {
                            "outlinewidth": 0,
                            "ticks": ""
                          }
                        },
                        "type": "scattermap"
                      }
                    ],
                    "scattermapbox": [
                      {
                        "marker": {
                          "colorbar": {
                            "outlinewidth": 0,
                            "ticks": ""
                          }
                        },
                        "type": "scattermapbox"
                      }
                    ],
                    "scatterpolar": [
                      {
                        "marker": {
                          "colorbar": {
                            "outlinewidth": 0,
                            "ticks": ""
                          }
                        },
                        "type": "scatterpolar"
                      }
                    ],
                    "scatterpolargl": [
                      {
                        "marker": {
                          "colorbar": {
                            "outlinewidth": 0,
                            "ticks": ""
                          }
                        },
                        "type": "scatterpolargl"
                      }
                    ],
                    "scatterternary": [
                      {
                        "marker": {
                          "colorbar": {
                            "outlinewidth": 0,
                            "ticks": ""
                          }
                        },
                        "type": "scatterternary"
                      }
                    ],
                    "surface": [
                      {
                        "colorbar": {
                          "outlinewidth": 0,
                          "ticks": ""
                        },
                        "colorscale": [
                          [
                            0,
                            "#0d0887"
                          ],
                          [
                            0.1111111111111111,
                            "#46039f"
                          ],
                          [
                            0.2222222222222222,
                            "#7201a8"
                          ],
                          [
                            0.3333333333333333,
                            "#9c179e"
                          ],
                          [
                            0.4444444444444444,
                            "#bd3786"
                          ],
                          [
                            0.5555555555555556,
                            "#d8576b"
                          ],
                          [
                            0.6666666666666666,
                            "#ed7953"
                          ],
                          [
                            0.7777777777777778,
                            "#fb9f3a"
                          ],
                          [
                            0.8888888888888888,
                            "#fdca26"
                          ],
                          [
                            1,
                            "#f0f921"
                          ]
                        ],
                        "type": "surface"
                      }
                    ],
                    "table": [
                      {
                        "cells": {
                          "fill": {
                            "color": "#EBF0F8"
                          },
                          "line": {
                            "color": "white"
                          }
                        },
                        "header": {
                          "fill": {
                            "color": "#C8D4E3"
                          },
                          "line": {
                            "color": "white"
                          }
                        },
                        "type": "table"
                      }
                    ]
                  },
                  "layout": {
                    "annotationdefaults": {
                      "arrowcolor": "#2a3f5f",
                      "arrowhead": 0,
                      "arrowwidth": 1
                    },
                    "autotypenumbers": "strict",
                    "coloraxis": {
                      "colorbar": {
                        "outlinewidth": 0,
                        "ticks": ""
                      }
                    },
                    "colorscale": {
                      "diverging": [
                        [
                          0,
                          "#8e0152"
                        ],
                        [
                          0.1,
                          "#c51b7d"
                        ],
                        [
                          0.2,
                          "#de77ae"
                        ],
                        [
                          0.3,
                          "#f1b6da"
                        ],
                        [
                          0.4,
                          "#fde0ef"
                        ],
                        [
                          0.5,
                          "#f7f7f7"
                        ],
                        [
                          0.6,
                          "#e6f5d0"
                        ],
                        [
                          0.7,
                          "#b8e186"
                        ],
                        [
                          0.8,
                          "#7fbc41"
                        ],
                        [
                          0.9,
                          "#4d9221"
                        ],
                        [
                          1,
                          "#276419"
                        ]
                      ],
                      "sequential": [
                        [
                          0,
                          "#0d0887"
                        ],
                        [
                          0.1111111111111111,
                          "#46039f"
                        ],
                        [
                          0.2222222222222222,
                          "#7201a8"
                        ],
                        [
                          0.3333333333333333,
                          "#9c179e"
                        ],
                        [
                          0.4444444444444444,
                          "#bd3786"
                        ],
                        [
                          0.5555555555555556,
                          "#d8576b"
                        ],
                        [
                          0.6666666666666666,
                          "#ed7953"
                        ],
                        [
                          0.7777777777777778,
                          "#fb9f3a"
                        ],
                        [
                          0.8888888888888888,
                          "#fdca26"
                        ],
                        [
                          1,
                          "#f0f921"
                        ]
                      ],
                      "sequentialminus": [
                        [
                          0,
                          "#0d0887"
                        ],
                        [
                          0.1111111111111111,
                          "#46039f"
                        ],
                        [
                          0.2222222222222222,
                          "#7201a8"
                        ],
                        [
                          0.3333333333333333,
                          "#9c179e"
                        ],
                        [
                          0.4444444444444444,
                          "#bd3786"
                        ],
                        [
                          0.5555555555555556,
                          "#d8576b"
                        ],
                        [
                          0.6666666666666666,
                          "#ed7953"
                        ],
                        [
                          0.7777777777777778,
                          "#fb9f3a"
                        ],
                        [
                          0.8888888888888888,
                          "#fdca26"
                        ],
                        [
                          1,
                          "#f0f921"
                        ]
                      ]
                    },
                    "colorway": [
                      "#636efa",
                      "#EF553B",
                      "#00cc96",
                      "#ab63fa",
                      "#FFA15A",
                      "#19d3f3",
                      "#FF6692",
                      "#B6E880",
                      "#FF97FF",
                      "#FECB52"
                    ],
                    "font": {
                      "color": "#2a3f5f"
                    },
                    "geo": {
                      "bgcolor": "white",
                      "lakecolor": "white",
                      "landcolor": "#E5ECF6",
                      "showlakes": true,
                      "showland": true,
                      "subunitcolor": "white"
                    },
                    "hoverlabel": {
                      "align": "left"
                    },
                    "hovermode": "closest",
                    "mapbox": {
                      "style": "light"
                    },
                    "paper_bgcolor": "white",
                    "plot_bgcolor": "#E5ECF6",
                    "polar": {
                      "angularaxis": {
                        "gridcolor": "white",
                        "linecolor": "white",
                        "ticks": ""
                      },
                      "bgcolor": "#E5ECF6",
                      "radialaxis": {
                        "gridcolor": "white",
                        "linecolor": "white",
                        "ticks": ""
                      }
                    },
                    "scene": {
                      "xaxis": {
                        "backgroundcolor": "#E5ECF6",
                        "gridcolor": "white",
                        "gridwidth": 2,
                        "linecolor": "white",
                        "showbackground": true,
                        "ticks": "",
                        "zerolinecolor": "white"
                      },
                      "yaxis": {
                        "backgroundcolor": "#E5ECF6",
                        "gridcolor": "white",
                        "gridwidth": 2,
                        "linecolor": "white",
                        "showbackground": true,
                        "ticks": "",
                        "zerolinecolor": "white"
                      },
                      "zaxis": {
                        "backgroundcolor": "#E5ECF6",
                        "gridcolor": "white",
                        "gridwidth": 2,
                        "linecolor": "white",
                        "showbackground": true,
                        "ticks": "",
                        "zerolinecolor": "white"
                      }
                    },
                    "shapedefaults": {
                      "line": {
                        "color": "#2a3f5f"
                      }
                    },
                    "ternary": {
                      "aaxis": {
                        "gridcolor": "white",
                        "linecolor": "white",
                        "ticks": ""
                      },
                      "baxis": {
                        "gridcolor": "white",
                        "linecolor": "white",
                        "ticks": ""
                      },
                      "bgcolor": "#E5ECF6",
                      "caxis": {
                        "gridcolor": "white",
                        "linecolor": "white",
                        "ticks": ""
                      }
                    },
                    "title": {
                      "x": 0.05
                    },
                    "xaxis": {
                      "automargin": true,
                      "gridcolor": "white",
                      "linecolor": "white",
                      "ticks": "",
                      "title": {
                        "standoff": 15
                      },
                      "zerolinecolor": "white",
                      "zerolinewidth": 2
                    },
                    "yaxis": {
                      "automargin": true,
                      "gridcolor": "white",
                      "linecolor": "white",
                      "ticks": "",
                      "title": {
                        "standoff": 15
                      },
                      "zerolinecolor": "white",
                      "zerolinewidth": 2
                    }
                  }
                },
                "title": {
                  "text": "Torneio por número de jogadores"
                }
              }
            }
          },
          "metadata": {},
          "output_type": "display_data"
        }
      ],
      "source": [
        "equipes = list(dict(results['tournament'].value_counts()).keys())\n",
        "valores = results['tournament'].value_counts().tolist()\n",
        "\n",
        "grafico = go.Bar(x = equipes,\n",
        "             y = valores,\n",
        "             marker = dict(color = 'rgba(255, 0, 255, 0.5)', line = dict(color = 'rgb(0, 0, 50)',width = 1.0)),\n",
        "             text = equipes)\n",
        "\n",
        "layout = go.Layout()\n",
        "\n",
        "grafico = go.Figure(data = grafico, layout = layout)\n",
        "grafico.update_layout(title_text='Torneio por número de jogadores')\n",
        "\n",
        "grafico.show()"
      ]
    },
    {
      "cell_type": "markdown",
      "metadata": {
        "id": "K3vzHjLOUzvT"
      },
      "source": [
        "**QUANTIDADE DE PARTIDAS POR ANO:**"
      ]
    },
    {
      "cell_type": "code",
      "execution_count": 16,
      "metadata": {
        "colab": {
          "base_uri": "https://localhost:8080/",
          "height": 817
        },
        "id": "S5LYVxjk6KHQ",
        "outputId": "8a914a01-180e-4874-e83a-446b0759cf5b"
      },
      "outputs": [
        {
          "data": {
            "application/vnd.plotly.v1+json": {
              "config": {
                "plotlyServerURL": "https://plot.ly"
              },
              "data": [
                {
                  "hovertemplate": "Year=%{x}<br>Count=%{y}<extra></extra>",
                  "legendgroup": "",
                  "line": {
                    "color": "#114B86",
                    "dash": "solid"
                  },
                  "marker": {
                    "symbol": "circle"
                  },
                  "mode": "lines",
                  "name": "",
                  "orientation": "v",
                  "showlegend": false,
                  "type": "scatter",
                  "x": {
                    "bdata": "sQcAALcHAAC5BwAAuwcAALwHAAC9BwAAvgcAAL8HAADABwAAwQcAAMIHAADDBwAAxAcAAMUHAADGBwAAxwcAAMgHAADJBwAAygcAAMsHAADMBwAAzQcAAM4HAADPBwAA0AcAANEHAADSBwAA0wcAANQHAADVBwAA1gcAANcHAADYBwAA2QcAANoHAADbBwAA3AcAAN0HAADeBwAA3wcAAOAHAADhBwAA4gcAAOMHAADkBwAA5QcAAOYHAAA=",
                    "dtype": "i4"
                  },
                  "xaxis": "x",
                  "y": {
                    "bdata": "BAAKAAoAEAASABAAEgA2AAkAGAAmABQALAAqACkAXAAoADUAWQB8AG4AMgBlAIgAkQA9AHAAswCWAD0AwwCCALoAWgC+ALIA8gBzAKEAygDkAOQAWgHMAIkAWwBeAA==",
                    "dtype": "i2"
                  },
                  "yaxis": "y"
                }
              ],
              "layout": {
                "height": 800,
                "legend": {
                  "tracegroupgap": 0
                },
                "margin": {
                  "t": 60
                },
                "template": {
                  "data": {
                    "bar": [
                      {
                        "error_x": {
                          "color": "#2a3f5f"
                        },
                        "error_y": {
                          "color": "#2a3f5f"
                        },
                        "marker": {
                          "line": {
                            "color": "white",
                            "width": 0.5
                          },
                          "pattern": {
                            "fillmode": "overlay",
                            "size": 10,
                            "solidity": 0.2
                          }
                        },
                        "type": "bar"
                      }
                    ],
                    "barpolar": [
                      {
                        "marker": {
                          "line": {
                            "color": "white",
                            "width": 0.5
                          },
                          "pattern": {
                            "fillmode": "overlay",
                            "size": 10,
                            "solidity": 0.2
                          }
                        },
                        "type": "barpolar"
                      }
                    ],
                    "carpet": [
                      {
                        "aaxis": {
                          "endlinecolor": "#2a3f5f",
                          "gridcolor": "#C8D4E3",
                          "linecolor": "#C8D4E3",
                          "minorgridcolor": "#C8D4E3",
                          "startlinecolor": "#2a3f5f"
                        },
                        "baxis": {
                          "endlinecolor": "#2a3f5f",
                          "gridcolor": "#C8D4E3",
                          "linecolor": "#C8D4E3",
                          "minorgridcolor": "#C8D4E3",
                          "startlinecolor": "#2a3f5f"
                        },
                        "type": "carpet"
                      }
                    ],
                    "choropleth": [
                      {
                        "colorbar": {
                          "outlinewidth": 0,
                          "ticks": ""
                        },
                        "type": "choropleth"
                      }
                    ],
                    "contour": [
                      {
                        "colorbar": {
                          "outlinewidth": 0,
                          "ticks": ""
                        },
                        "colorscale": [
                          [
                            0,
                            "#0d0887"
                          ],
                          [
                            0.1111111111111111,
                            "#46039f"
                          ],
                          [
                            0.2222222222222222,
                            "#7201a8"
                          ],
                          [
                            0.3333333333333333,
                            "#9c179e"
                          ],
                          [
                            0.4444444444444444,
                            "#bd3786"
                          ],
                          [
                            0.5555555555555556,
                            "#d8576b"
                          ],
                          [
                            0.6666666666666666,
                            "#ed7953"
                          ],
                          [
                            0.7777777777777778,
                            "#fb9f3a"
                          ],
                          [
                            0.8888888888888888,
                            "#fdca26"
                          ],
                          [
                            1,
                            "#f0f921"
                          ]
                        ],
                        "type": "contour"
                      }
                    ],
                    "contourcarpet": [
                      {
                        "colorbar": {
                          "outlinewidth": 0,
                          "ticks": ""
                        },
                        "type": "contourcarpet"
                      }
                    ],
                    "heatmap": [
                      {
                        "colorbar": {
                          "outlinewidth": 0,
                          "ticks": ""
                        },
                        "colorscale": [
                          [
                            0,
                            "#0d0887"
                          ],
                          [
                            0.1111111111111111,
                            "#46039f"
                          ],
                          [
                            0.2222222222222222,
                            "#7201a8"
                          ],
                          [
                            0.3333333333333333,
                            "#9c179e"
                          ],
                          [
                            0.4444444444444444,
                            "#bd3786"
                          ],
                          [
                            0.5555555555555556,
                            "#d8576b"
                          ],
                          [
                            0.6666666666666666,
                            "#ed7953"
                          ],
                          [
                            0.7777777777777778,
                            "#fb9f3a"
                          ],
                          [
                            0.8888888888888888,
                            "#fdca26"
                          ],
                          [
                            1,
                            "#f0f921"
                          ]
                        ],
                        "type": "heatmap"
                      }
                    ],
                    "histogram": [
                      {
                        "marker": {
                          "pattern": {
                            "fillmode": "overlay",
                            "size": 10,
                            "solidity": 0.2
                          }
                        },
                        "type": "histogram"
                      }
                    ],
                    "histogram2d": [
                      {
                        "colorbar": {
                          "outlinewidth": 0,
                          "ticks": ""
                        },
                        "colorscale": [
                          [
                            0,
                            "#0d0887"
                          ],
                          [
                            0.1111111111111111,
                            "#46039f"
                          ],
                          [
                            0.2222222222222222,
                            "#7201a8"
                          ],
                          [
                            0.3333333333333333,
                            "#9c179e"
                          ],
                          [
                            0.4444444444444444,
                            "#bd3786"
                          ],
                          [
                            0.5555555555555556,
                            "#d8576b"
                          ],
                          [
                            0.6666666666666666,
                            "#ed7953"
                          ],
                          [
                            0.7777777777777778,
                            "#fb9f3a"
                          ],
                          [
                            0.8888888888888888,
                            "#fdca26"
                          ],
                          [
                            1,
                            "#f0f921"
                          ]
                        ],
                        "type": "histogram2d"
                      }
                    ],
                    "histogram2dcontour": [
                      {
                        "colorbar": {
                          "outlinewidth": 0,
                          "ticks": ""
                        },
                        "colorscale": [
                          [
                            0,
                            "#0d0887"
                          ],
                          [
                            0.1111111111111111,
                            "#46039f"
                          ],
                          [
                            0.2222222222222222,
                            "#7201a8"
                          ],
                          [
                            0.3333333333333333,
                            "#9c179e"
                          ],
                          [
                            0.4444444444444444,
                            "#bd3786"
                          ],
                          [
                            0.5555555555555556,
                            "#d8576b"
                          ],
                          [
                            0.6666666666666666,
                            "#ed7953"
                          ],
                          [
                            0.7777777777777778,
                            "#fb9f3a"
                          ],
                          [
                            0.8888888888888888,
                            "#fdca26"
                          ],
                          [
                            1,
                            "#f0f921"
                          ]
                        ],
                        "type": "histogram2dcontour"
                      }
                    ],
                    "mesh3d": [
                      {
                        "colorbar": {
                          "outlinewidth": 0,
                          "ticks": ""
                        },
                        "type": "mesh3d"
                      }
                    ],
                    "parcoords": [
                      {
                        "line": {
                          "colorbar": {
                            "outlinewidth": 0,
                            "ticks": ""
                          }
                        },
                        "type": "parcoords"
                      }
                    ],
                    "pie": [
                      {
                        "automargin": true,
                        "type": "pie"
                      }
                    ],
                    "scatter": [
                      {
                        "fillpattern": {
                          "fillmode": "overlay",
                          "size": 10,
                          "solidity": 0.2
                        },
                        "type": "scatter"
                      }
                    ],
                    "scatter3d": [
                      {
                        "line": {
                          "colorbar": {
                            "outlinewidth": 0,
                            "ticks": ""
                          }
                        },
                        "marker": {
                          "colorbar": {
                            "outlinewidth": 0,
                            "ticks": ""
                          }
                        },
                        "type": "scatter3d"
                      }
                    ],
                    "scattercarpet": [
                      {
                        "marker": {
                          "colorbar": {
                            "outlinewidth": 0,
                            "ticks": ""
                          }
                        },
                        "type": "scattercarpet"
                      }
                    ],
                    "scattergeo": [
                      {
                        "marker": {
                          "colorbar": {
                            "outlinewidth": 0,
                            "ticks": ""
                          }
                        },
                        "type": "scattergeo"
                      }
                    ],
                    "scattergl": [
                      {
                        "marker": {
                          "colorbar": {
                            "outlinewidth": 0,
                            "ticks": ""
                          }
                        },
                        "type": "scattergl"
                      }
                    ],
                    "scattermap": [
                      {
                        "marker": {
                          "colorbar": {
                            "outlinewidth": 0,
                            "ticks": ""
                          }
                        },
                        "type": "scattermap"
                      }
                    ],
                    "scattermapbox": [
                      {
                        "marker": {
                          "colorbar": {
                            "outlinewidth": 0,
                            "ticks": ""
                          }
                        },
                        "type": "scattermapbox"
                      }
                    ],
                    "scatterpolar": [
                      {
                        "marker": {
                          "colorbar": {
                            "outlinewidth": 0,
                            "ticks": ""
                          }
                        },
                        "type": "scatterpolar"
                      }
                    ],
                    "scatterpolargl": [
                      {
                        "marker": {
                          "colorbar": {
                            "outlinewidth": 0,
                            "ticks": ""
                          }
                        },
                        "type": "scatterpolargl"
                      }
                    ],
                    "scatterternary": [
                      {
                        "marker": {
                          "colorbar": {
                            "outlinewidth": 0,
                            "ticks": ""
                          }
                        },
                        "type": "scatterternary"
                      }
                    ],
                    "surface": [
                      {
                        "colorbar": {
                          "outlinewidth": 0,
                          "ticks": ""
                        },
                        "colorscale": [
                          [
                            0,
                            "#0d0887"
                          ],
                          [
                            0.1111111111111111,
                            "#46039f"
                          ],
                          [
                            0.2222222222222222,
                            "#7201a8"
                          ],
                          [
                            0.3333333333333333,
                            "#9c179e"
                          ],
                          [
                            0.4444444444444444,
                            "#bd3786"
                          ],
                          [
                            0.5555555555555556,
                            "#d8576b"
                          ],
                          [
                            0.6666666666666666,
                            "#ed7953"
                          ],
                          [
                            0.7777777777777778,
                            "#fb9f3a"
                          ],
                          [
                            0.8888888888888888,
                            "#fdca26"
                          ],
                          [
                            1,
                            "#f0f921"
                          ]
                        ],
                        "type": "surface"
                      }
                    ],
                    "table": [
                      {
                        "cells": {
                          "fill": {
                            "color": "#EBF0F8"
                          },
                          "line": {
                            "color": "white"
                          }
                        },
                        "header": {
                          "fill": {
                            "color": "#C8D4E3"
                          },
                          "line": {
                            "color": "white"
                          }
                        },
                        "type": "table"
                      }
                    ]
                  },
                  "layout": {
                    "annotationdefaults": {
                      "arrowcolor": "#2a3f5f",
                      "arrowhead": 0,
                      "arrowwidth": 1
                    },
                    "autotypenumbers": "strict",
                    "coloraxis": {
                      "colorbar": {
                        "outlinewidth": 0,
                        "ticks": ""
                      }
                    },
                    "colorscale": {
                      "diverging": [
                        [
                          0,
                          "#8e0152"
                        ],
                        [
                          0.1,
                          "#c51b7d"
                        ],
                        [
                          0.2,
                          "#de77ae"
                        ],
                        [
                          0.3,
                          "#f1b6da"
                        ],
                        [
                          0.4,
                          "#fde0ef"
                        ],
                        [
                          0.5,
                          "#f7f7f7"
                        ],
                        [
                          0.6,
                          "#e6f5d0"
                        ],
                        [
                          0.7,
                          "#b8e186"
                        ],
                        [
                          0.8,
                          "#7fbc41"
                        ],
                        [
                          0.9,
                          "#4d9221"
                        ],
                        [
                          1,
                          "#276419"
                        ]
                      ],
                      "sequential": [
                        [
                          0,
                          "#0d0887"
                        ],
                        [
                          0.1111111111111111,
                          "#46039f"
                        ],
                        [
                          0.2222222222222222,
                          "#7201a8"
                        ],
                        [
                          0.3333333333333333,
                          "#9c179e"
                        ],
                        [
                          0.4444444444444444,
                          "#bd3786"
                        ],
                        [
                          0.5555555555555556,
                          "#d8576b"
                        ],
                        [
                          0.6666666666666666,
                          "#ed7953"
                        ],
                        [
                          0.7777777777777778,
                          "#fb9f3a"
                        ],
                        [
                          0.8888888888888888,
                          "#fdca26"
                        ],
                        [
                          1,
                          "#f0f921"
                        ]
                      ],
                      "sequentialminus": [
                        [
                          0,
                          "#0d0887"
                        ],
                        [
                          0.1111111111111111,
                          "#46039f"
                        ],
                        [
                          0.2222222222222222,
                          "#7201a8"
                        ],
                        [
                          0.3333333333333333,
                          "#9c179e"
                        ],
                        [
                          0.4444444444444444,
                          "#bd3786"
                        ],
                        [
                          0.5555555555555556,
                          "#d8576b"
                        ],
                        [
                          0.6666666666666666,
                          "#ed7953"
                        ],
                        [
                          0.7777777777777778,
                          "#fb9f3a"
                        ],
                        [
                          0.8888888888888888,
                          "#fdca26"
                        ],
                        [
                          1,
                          "#f0f921"
                        ]
                      ]
                    },
                    "colorway": [
                      "#636efa",
                      "#EF553B",
                      "#00cc96",
                      "#ab63fa",
                      "#FFA15A",
                      "#19d3f3",
                      "#FF6692",
                      "#B6E880",
                      "#FF97FF",
                      "#FECB52"
                    ],
                    "font": {
                      "color": "#2a3f5f"
                    },
                    "geo": {
                      "bgcolor": "white",
                      "lakecolor": "white",
                      "landcolor": "white",
                      "showlakes": true,
                      "showland": true,
                      "subunitcolor": "#C8D4E3"
                    },
                    "hoverlabel": {
                      "align": "left"
                    },
                    "hovermode": "closest",
                    "mapbox": {
                      "style": "light"
                    },
                    "paper_bgcolor": "white",
                    "plot_bgcolor": "white",
                    "polar": {
                      "angularaxis": {
                        "gridcolor": "#EBF0F8",
                        "linecolor": "#EBF0F8",
                        "ticks": ""
                      },
                      "bgcolor": "white",
                      "radialaxis": {
                        "gridcolor": "#EBF0F8",
                        "linecolor": "#EBF0F8",
                        "ticks": ""
                      }
                    },
                    "scene": {
                      "xaxis": {
                        "backgroundcolor": "white",
                        "gridcolor": "#DFE8F3",
                        "gridwidth": 2,
                        "linecolor": "#EBF0F8",
                        "showbackground": true,
                        "ticks": "",
                        "zerolinecolor": "#EBF0F8"
                      },
                      "yaxis": {
                        "backgroundcolor": "white",
                        "gridcolor": "#DFE8F3",
                        "gridwidth": 2,
                        "linecolor": "#EBF0F8",
                        "showbackground": true,
                        "ticks": "",
                        "zerolinecolor": "#EBF0F8"
                      },
                      "zaxis": {
                        "backgroundcolor": "white",
                        "gridcolor": "#DFE8F3",
                        "gridwidth": 2,
                        "linecolor": "#EBF0F8",
                        "showbackground": true,
                        "ticks": "",
                        "zerolinecolor": "#EBF0F8"
                      }
                    },
                    "shapedefaults": {
                      "line": {
                        "color": "#2a3f5f"
                      }
                    },
                    "ternary": {
                      "aaxis": {
                        "gridcolor": "#DFE8F3",
                        "linecolor": "#A2B1C6",
                        "ticks": ""
                      },
                      "baxis": {
                        "gridcolor": "#DFE8F3",
                        "linecolor": "#A2B1C6",
                        "ticks": ""
                      },
                      "bgcolor": "white",
                      "caxis": {
                        "gridcolor": "#DFE8F3",
                        "linecolor": "#A2B1C6",
                        "ticks": ""
                      }
                    },
                    "title": {
                      "x": 0.05
                    },
                    "xaxis": {
                      "automargin": true,
                      "gridcolor": "#EBF0F8",
                      "linecolor": "#EBF0F8",
                      "ticks": "",
                      "title": {
                        "standoff": 15
                      },
                      "zerolinecolor": "#EBF0F8",
                      "zerolinewidth": 2
                    },
                    "yaxis": {
                      "automargin": true,
                      "gridcolor": "#EBF0F8",
                      "linecolor": "#EBF0F8",
                      "ticks": "",
                      "title": {
                        "standoff": 15
                      },
                      "zerolinecolor": "#EBF0F8",
                      "zerolinewidth": 2
                    }
                  }
                },
                "title": {
                  "text": "Quantidade de partidas por ano",
                  "x": 0.5
                },
                "width": 1000,
                "xaxis": {
                  "anchor": "y",
                  "domain": [
                    0,
                    1
                  ],
                  "title": {
                    "text": "Year"
                  }
                },
                "yaxis": {
                  "anchor": "x",
                  "domain": [
                    0,
                    1
                  ],
                  "title": {
                    "text": "Count"
                  }
                }
              }
            }
          },
          "metadata": {},
          "output_type": "display_data"
        }
      ],
      "source": [
        "results['Year'] = results['date'].dt.year\n",
        "results['Count'] = 1\n",
        "\n",
        "resultadosAno = results.groupby('Year')['Count'].sum().reset_index()\n",
        "\n",
        "grafico = px.line(resultadosAno, y = 'Count', x = 'Year', height = 800, width = 1000)\n",
        "grafico.update_layout(title = 'Quantidade de partidas por ano', title_x = 0.5, template = 'plotly_white')\n",
        "grafico.update_traces(line_color = '#114B86')\n",
        "\n",
        "grafico.show()"
      ]
    },
    {
      "cell_type": "code",
      "execution_count": 17,
      "metadata": {
        "colab": {
          "base_uri": "https://localhost:8080/",
          "height": 817
        },
        "id": "VVBpNgPr6Nr7",
        "outputId": "e258457d-cdde-4701-e288-aeda317b7b68"
      },
      "outputs": [
        {
          "data": {
            "application/vnd.plotly.v1+json": {
              "config": {
                "plotlyServerURL": "https://plot.ly"
              },
              "data": [
                {
                  "hovertemplate": "tournament=%{x}<br>Média de gols por jogo=%{marker.color}<extra></extra>",
                  "legendgroup": "",
                  "marker": {
                    "color": {
                      "bdata": "AAAAAAAAHEAAAAAAAAAYQAAAAAAAABhAAAAAAAAAGEAAAAAAAAAUQAAAAAAAABRAAAAAAAAAFEAAAAAAAAAUQAAAAAAAABRAAAAAAAAAEEAAAAAAAAAQQAAAAAAAABBAAAAAAAAAEEAAAAAAAAAQQAAAAAAAABBAAAAAAAAAEEAAAAAAAAAIQAAAAAAAAAhAAAAAAAAACEAAAAAAAAAIQAAAAAAAAAhAAAAAAAAACEAAAAAAAAAIQAAAAAAAAAhAAAAAAAAACEAAAAAAAAAAQAAAAAAAAABAAAAAAAAAAEAAAAAAAAAAQAAAAAAAAAAA",
                      "dtype": "f8"
                    },
                    "coloraxis": "coloraxis",
                    "pattern": {
                      "shape": ""
                    }
                  },
                  "name": "",
                  "orientation": "v",
                  "showlegend": false,
                  "textposition": "auto",
                  "type": "bar",
                  "x": [
                    "OFC Nations Cup",
                    "CONCACAF Championship",
                    "OFC Championship",
                    "Olympic Games qualification",
                    "CONCACAF Gold Cup",
                    "AFC Asian Cup qualification",
                    "Copa América",
                    "CONCACAF Gold Cup qualification",
                    "AFC Championship",
                    "African Cup of Nations qualification",
                    "Friendly",
                    "CONCACAF Invitational Tournament",
                    "African Championship qualification",
                    "AFC Asian Cup",
                    "Tournament of Nations",
                    "UEFA Euro qualification",
                    "African Championship",
                    "African Cup of Nations",
                    "UEFA Euro",
                    "Algarve Cup",
                    "FIFA World Cup qualification",
                    "Cyprus Cup",
                    "FIFA World Cup",
                    "Euro",
                    "Olympic Games",
                    "Four Nations Tournament",
                    "SheBelieves Cup",
                    "OFC Nations Cup qualification",
                    "Tournoi de France",
                    "Basque Country Women's Cup"
                  ],
                  "xaxis": "x",
                  "y": {
                    "bdata": "AAAAAAAAHEAAAAAAAAAYQAAAAAAAABhAAAAAAAAAGEAAAAAAAAAUQAAAAAAAABRAAAAAAAAAFEAAAAAAAAAUQAAAAAAAABRAAAAAAAAAEEAAAAAAAAAQQAAAAAAAABBAAAAAAAAAEEAAAAAAAAAQQAAAAAAAABBAAAAAAAAAEEAAAAAAAAAIQAAAAAAAAAhAAAAAAAAACEAAAAAAAAAIQAAAAAAAAAhAAAAAAAAACEAAAAAAAAAIQAAAAAAAAAhAAAAAAAAACEAAAAAAAAAAQAAAAAAAAABAAAAAAAAAAEAAAAAAAAAAQAAAAAAAAAAA",
                    "dtype": "f8"
                  },
                  "yaxis": "y"
                }
              ],
              "layout": {
                "barmode": "relative",
                "coloraxis": {
                  "colorbar": {
                    "title": {
                      "text": "Média de gols por jogo"
                    }
                  },
                  "colorscale": [
                    [
                      0,
                      "#0d0887"
                    ],
                    [
                      0.1111111111111111,
                      "#46039f"
                    ],
                    [
                      0.2222222222222222,
                      "#7201a8"
                    ],
                    [
                      0.3333333333333333,
                      "#9c179e"
                    ],
                    [
                      0.4444444444444444,
                      "#bd3786"
                    ],
                    [
                      0.5555555555555556,
                      "#d8576b"
                    ],
                    [
                      0.6666666666666666,
                      "#ed7953"
                    ],
                    [
                      0.7777777777777778,
                      "#fb9f3a"
                    ],
                    [
                      0.8888888888888888,
                      "#fdca26"
                    ],
                    [
                      1,
                      "#f0f921"
                    ]
                  ]
                },
                "height": 800,
                "legend": {
                  "tracegroupgap": 0
                },
                "margin": {
                  "t": 60
                },
                "template": {
                  "data": {
                    "bar": [
                      {
                        "error_x": {
                          "color": "#2a3f5f"
                        },
                        "error_y": {
                          "color": "#2a3f5f"
                        },
                        "marker": {
                          "line": {
                            "color": "white",
                            "width": 0.5
                          },
                          "pattern": {
                            "fillmode": "overlay",
                            "size": 10,
                            "solidity": 0.2
                          }
                        },
                        "type": "bar"
                      }
                    ],
                    "barpolar": [
                      {
                        "marker": {
                          "line": {
                            "color": "white",
                            "width": 0.5
                          },
                          "pattern": {
                            "fillmode": "overlay",
                            "size": 10,
                            "solidity": 0.2
                          }
                        },
                        "type": "barpolar"
                      }
                    ],
                    "carpet": [
                      {
                        "aaxis": {
                          "endlinecolor": "#2a3f5f",
                          "gridcolor": "#C8D4E3",
                          "linecolor": "#C8D4E3",
                          "minorgridcolor": "#C8D4E3",
                          "startlinecolor": "#2a3f5f"
                        },
                        "baxis": {
                          "endlinecolor": "#2a3f5f",
                          "gridcolor": "#C8D4E3",
                          "linecolor": "#C8D4E3",
                          "minorgridcolor": "#C8D4E3",
                          "startlinecolor": "#2a3f5f"
                        },
                        "type": "carpet"
                      }
                    ],
                    "choropleth": [
                      {
                        "colorbar": {
                          "outlinewidth": 0,
                          "ticks": ""
                        },
                        "type": "choropleth"
                      }
                    ],
                    "contour": [
                      {
                        "colorbar": {
                          "outlinewidth": 0,
                          "ticks": ""
                        },
                        "colorscale": [
                          [
                            0,
                            "#0d0887"
                          ],
                          [
                            0.1111111111111111,
                            "#46039f"
                          ],
                          [
                            0.2222222222222222,
                            "#7201a8"
                          ],
                          [
                            0.3333333333333333,
                            "#9c179e"
                          ],
                          [
                            0.4444444444444444,
                            "#bd3786"
                          ],
                          [
                            0.5555555555555556,
                            "#d8576b"
                          ],
                          [
                            0.6666666666666666,
                            "#ed7953"
                          ],
                          [
                            0.7777777777777778,
                            "#fb9f3a"
                          ],
                          [
                            0.8888888888888888,
                            "#fdca26"
                          ],
                          [
                            1,
                            "#f0f921"
                          ]
                        ],
                        "type": "contour"
                      }
                    ],
                    "contourcarpet": [
                      {
                        "colorbar": {
                          "outlinewidth": 0,
                          "ticks": ""
                        },
                        "type": "contourcarpet"
                      }
                    ],
                    "heatmap": [
                      {
                        "colorbar": {
                          "outlinewidth": 0,
                          "ticks": ""
                        },
                        "colorscale": [
                          [
                            0,
                            "#0d0887"
                          ],
                          [
                            0.1111111111111111,
                            "#46039f"
                          ],
                          [
                            0.2222222222222222,
                            "#7201a8"
                          ],
                          [
                            0.3333333333333333,
                            "#9c179e"
                          ],
                          [
                            0.4444444444444444,
                            "#bd3786"
                          ],
                          [
                            0.5555555555555556,
                            "#d8576b"
                          ],
                          [
                            0.6666666666666666,
                            "#ed7953"
                          ],
                          [
                            0.7777777777777778,
                            "#fb9f3a"
                          ],
                          [
                            0.8888888888888888,
                            "#fdca26"
                          ],
                          [
                            1,
                            "#f0f921"
                          ]
                        ],
                        "type": "heatmap"
                      }
                    ],
                    "histogram": [
                      {
                        "marker": {
                          "pattern": {
                            "fillmode": "overlay",
                            "size": 10,
                            "solidity": 0.2
                          }
                        },
                        "type": "histogram"
                      }
                    ],
                    "histogram2d": [
                      {
                        "colorbar": {
                          "outlinewidth": 0,
                          "ticks": ""
                        },
                        "colorscale": [
                          [
                            0,
                            "#0d0887"
                          ],
                          [
                            0.1111111111111111,
                            "#46039f"
                          ],
                          [
                            0.2222222222222222,
                            "#7201a8"
                          ],
                          [
                            0.3333333333333333,
                            "#9c179e"
                          ],
                          [
                            0.4444444444444444,
                            "#bd3786"
                          ],
                          [
                            0.5555555555555556,
                            "#d8576b"
                          ],
                          [
                            0.6666666666666666,
                            "#ed7953"
                          ],
                          [
                            0.7777777777777778,
                            "#fb9f3a"
                          ],
                          [
                            0.8888888888888888,
                            "#fdca26"
                          ],
                          [
                            1,
                            "#f0f921"
                          ]
                        ],
                        "type": "histogram2d"
                      }
                    ],
                    "histogram2dcontour": [
                      {
                        "colorbar": {
                          "outlinewidth": 0,
                          "ticks": ""
                        },
                        "colorscale": [
                          [
                            0,
                            "#0d0887"
                          ],
                          [
                            0.1111111111111111,
                            "#46039f"
                          ],
                          [
                            0.2222222222222222,
                            "#7201a8"
                          ],
                          [
                            0.3333333333333333,
                            "#9c179e"
                          ],
                          [
                            0.4444444444444444,
                            "#bd3786"
                          ],
                          [
                            0.5555555555555556,
                            "#d8576b"
                          ],
                          [
                            0.6666666666666666,
                            "#ed7953"
                          ],
                          [
                            0.7777777777777778,
                            "#fb9f3a"
                          ],
                          [
                            0.8888888888888888,
                            "#fdca26"
                          ],
                          [
                            1,
                            "#f0f921"
                          ]
                        ],
                        "type": "histogram2dcontour"
                      }
                    ],
                    "mesh3d": [
                      {
                        "colorbar": {
                          "outlinewidth": 0,
                          "ticks": ""
                        },
                        "type": "mesh3d"
                      }
                    ],
                    "parcoords": [
                      {
                        "line": {
                          "colorbar": {
                            "outlinewidth": 0,
                            "ticks": ""
                          }
                        },
                        "type": "parcoords"
                      }
                    ],
                    "pie": [
                      {
                        "automargin": true,
                        "type": "pie"
                      }
                    ],
                    "scatter": [
                      {
                        "fillpattern": {
                          "fillmode": "overlay",
                          "size": 10,
                          "solidity": 0.2
                        },
                        "type": "scatter"
                      }
                    ],
                    "scatter3d": [
                      {
                        "line": {
                          "colorbar": {
                            "outlinewidth": 0,
                            "ticks": ""
                          }
                        },
                        "marker": {
                          "colorbar": {
                            "outlinewidth": 0,
                            "ticks": ""
                          }
                        },
                        "type": "scatter3d"
                      }
                    ],
                    "scattercarpet": [
                      {
                        "marker": {
                          "colorbar": {
                            "outlinewidth": 0,
                            "ticks": ""
                          }
                        },
                        "type": "scattercarpet"
                      }
                    ],
                    "scattergeo": [
                      {
                        "marker": {
                          "colorbar": {
                            "outlinewidth": 0,
                            "ticks": ""
                          }
                        },
                        "type": "scattergeo"
                      }
                    ],
                    "scattergl": [
                      {
                        "marker": {
                          "colorbar": {
                            "outlinewidth": 0,
                            "ticks": ""
                          }
                        },
                        "type": "scattergl"
                      }
                    ],
                    "scattermap": [
                      {
                        "marker": {
                          "colorbar": {
                            "outlinewidth": 0,
                            "ticks": ""
                          }
                        },
                        "type": "scattermap"
                      }
                    ],
                    "scattermapbox": [
                      {
                        "marker": {
                          "colorbar": {
                            "outlinewidth": 0,
                            "ticks": ""
                          }
                        },
                        "type": "scattermapbox"
                      }
                    ],
                    "scatterpolar": [
                      {
                        "marker": {
                          "colorbar": {
                            "outlinewidth": 0,
                            "ticks": ""
                          }
                        },
                        "type": "scatterpolar"
                      }
                    ],
                    "scatterpolargl": [
                      {
                        "marker": {
                          "colorbar": {
                            "outlinewidth": 0,
                            "ticks": ""
                          }
                        },
                        "type": "scatterpolargl"
                      }
                    ],
                    "scatterternary": [
                      {
                        "marker": {
                          "colorbar": {
                            "outlinewidth": 0,
                            "ticks": ""
                          }
                        },
                        "type": "scatterternary"
                      }
                    ],
                    "surface": [
                      {
                        "colorbar": {
                          "outlinewidth": 0,
                          "ticks": ""
                        },
                        "colorscale": [
                          [
                            0,
                            "#0d0887"
                          ],
                          [
                            0.1111111111111111,
                            "#46039f"
                          ],
                          [
                            0.2222222222222222,
                            "#7201a8"
                          ],
                          [
                            0.3333333333333333,
                            "#9c179e"
                          ],
                          [
                            0.4444444444444444,
                            "#bd3786"
                          ],
                          [
                            0.5555555555555556,
                            "#d8576b"
                          ],
                          [
                            0.6666666666666666,
                            "#ed7953"
                          ],
                          [
                            0.7777777777777778,
                            "#fb9f3a"
                          ],
                          [
                            0.8888888888888888,
                            "#fdca26"
                          ],
                          [
                            1,
                            "#f0f921"
                          ]
                        ],
                        "type": "surface"
                      }
                    ],
                    "table": [
                      {
                        "cells": {
                          "fill": {
                            "color": "#EBF0F8"
                          },
                          "line": {
                            "color": "white"
                          }
                        },
                        "header": {
                          "fill": {
                            "color": "#C8D4E3"
                          },
                          "line": {
                            "color": "white"
                          }
                        },
                        "type": "table"
                      }
                    ]
                  },
                  "layout": {
                    "annotationdefaults": {
                      "arrowcolor": "#2a3f5f",
                      "arrowhead": 0,
                      "arrowwidth": 1
                    },
                    "autotypenumbers": "strict",
                    "coloraxis": {
                      "colorbar": {
                        "outlinewidth": 0,
                        "ticks": ""
                      }
                    },
                    "colorscale": {
                      "diverging": [
                        [
                          0,
                          "#8e0152"
                        ],
                        [
                          0.1,
                          "#c51b7d"
                        ],
                        [
                          0.2,
                          "#de77ae"
                        ],
                        [
                          0.3,
                          "#f1b6da"
                        ],
                        [
                          0.4,
                          "#fde0ef"
                        ],
                        [
                          0.5,
                          "#f7f7f7"
                        ],
                        [
                          0.6,
                          "#e6f5d0"
                        ],
                        [
                          0.7,
                          "#b8e186"
                        ],
                        [
                          0.8,
                          "#7fbc41"
                        ],
                        [
                          0.9,
                          "#4d9221"
                        ],
                        [
                          1,
                          "#276419"
                        ]
                      ],
                      "sequential": [
                        [
                          0,
                          "#0d0887"
                        ],
                        [
                          0.1111111111111111,
                          "#46039f"
                        ],
                        [
                          0.2222222222222222,
                          "#7201a8"
                        ],
                        [
                          0.3333333333333333,
                          "#9c179e"
                        ],
                        [
                          0.4444444444444444,
                          "#bd3786"
                        ],
                        [
                          0.5555555555555556,
                          "#d8576b"
                        ],
                        [
                          0.6666666666666666,
                          "#ed7953"
                        ],
                        [
                          0.7777777777777778,
                          "#fb9f3a"
                        ],
                        [
                          0.8888888888888888,
                          "#fdca26"
                        ],
                        [
                          1,
                          "#f0f921"
                        ]
                      ],
                      "sequentialminus": [
                        [
                          0,
                          "#0d0887"
                        ],
                        [
                          0.1111111111111111,
                          "#46039f"
                        ],
                        [
                          0.2222222222222222,
                          "#7201a8"
                        ],
                        [
                          0.3333333333333333,
                          "#9c179e"
                        ],
                        [
                          0.4444444444444444,
                          "#bd3786"
                        ],
                        [
                          0.5555555555555556,
                          "#d8576b"
                        ],
                        [
                          0.6666666666666666,
                          "#ed7953"
                        ],
                        [
                          0.7777777777777778,
                          "#fb9f3a"
                        ],
                        [
                          0.8888888888888888,
                          "#fdca26"
                        ],
                        [
                          1,
                          "#f0f921"
                        ]
                      ]
                    },
                    "colorway": [
                      "#636efa",
                      "#EF553B",
                      "#00cc96",
                      "#ab63fa",
                      "#FFA15A",
                      "#19d3f3",
                      "#FF6692",
                      "#B6E880",
                      "#FF97FF",
                      "#FECB52"
                    ],
                    "font": {
                      "color": "#2a3f5f"
                    },
                    "geo": {
                      "bgcolor": "white",
                      "lakecolor": "white",
                      "landcolor": "white",
                      "showlakes": true,
                      "showland": true,
                      "subunitcolor": "#C8D4E3"
                    },
                    "hoverlabel": {
                      "align": "left"
                    },
                    "hovermode": "closest",
                    "mapbox": {
                      "style": "light"
                    },
                    "paper_bgcolor": "white",
                    "plot_bgcolor": "white",
                    "polar": {
                      "angularaxis": {
                        "gridcolor": "#EBF0F8",
                        "linecolor": "#EBF0F8",
                        "ticks": ""
                      },
                      "bgcolor": "white",
                      "radialaxis": {
                        "gridcolor": "#EBF0F8",
                        "linecolor": "#EBF0F8",
                        "ticks": ""
                      }
                    },
                    "scene": {
                      "xaxis": {
                        "backgroundcolor": "white",
                        "gridcolor": "#DFE8F3",
                        "gridwidth": 2,
                        "linecolor": "#EBF0F8",
                        "showbackground": true,
                        "ticks": "",
                        "zerolinecolor": "#EBF0F8"
                      },
                      "yaxis": {
                        "backgroundcolor": "white",
                        "gridcolor": "#DFE8F3",
                        "gridwidth": 2,
                        "linecolor": "#EBF0F8",
                        "showbackground": true,
                        "ticks": "",
                        "zerolinecolor": "#EBF0F8"
                      },
                      "zaxis": {
                        "backgroundcolor": "white",
                        "gridcolor": "#DFE8F3",
                        "gridwidth": 2,
                        "linecolor": "#EBF0F8",
                        "showbackground": true,
                        "ticks": "",
                        "zerolinecolor": "#EBF0F8"
                      }
                    },
                    "shapedefaults": {
                      "line": {
                        "color": "#2a3f5f"
                      }
                    },
                    "ternary": {
                      "aaxis": {
                        "gridcolor": "#DFE8F3",
                        "linecolor": "#A2B1C6",
                        "ticks": ""
                      },
                      "baxis": {
                        "gridcolor": "#DFE8F3",
                        "linecolor": "#A2B1C6",
                        "ticks": ""
                      },
                      "bgcolor": "white",
                      "caxis": {
                        "gridcolor": "#DFE8F3",
                        "linecolor": "#A2B1C6",
                        "ticks": ""
                      }
                    },
                    "title": {
                      "x": 0.05
                    },
                    "xaxis": {
                      "automargin": true,
                      "gridcolor": "#EBF0F8",
                      "linecolor": "#EBF0F8",
                      "ticks": "",
                      "title": {
                        "standoff": 15
                      },
                      "zerolinecolor": "#EBF0F8",
                      "zerolinewidth": 2
                    },
                    "yaxis": {
                      "automargin": true,
                      "gridcolor": "#EBF0F8",
                      "linecolor": "#EBF0F8",
                      "ticks": "",
                      "title": {
                        "standoff": 15
                      },
                      "zerolinecolor": "#EBF0F8",
                      "zerolinewidth": 2
                    }
                  }
                },
                "width": 1000,
                "xaxis": {
                  "anchor": "y",
                  "domain": [
                    0,
                    1
                  ],
                  "title": {
                    "text": "tournament"
                  }
                },
                "yaxis": {
                  "anchor": "x",
                  "domain": [
                    0,
                    1
                  ],
                  "title": {
                    "text": "Média de gols por jogo"
                  }
                }
              }
            }
          },
          "metadata": {},
          "output_type": "display_data"
        }
      ],
      "source": [
        "results['Total goals'] = results['home_score'] + results['away_score']\n",
        "\n",
        "grafico = results.groupby('tournament')[['Count','Total goals']].sum().reset_index()\n",
        "grafico['GPG'] = np.round(grafico['Total goals'] / grafico['Count'], 0)\n",
        "grafico.sort_values(by = 'GPG', ascending = False, inplace = True)\n",
        "\n",
        "graficoMedia = px.bar(grafico, x = 'tournament', y = 'GPG', color = 'GPG', height = 800, width = 1000, labels = {'GPG':'Média de gols por jogo','Torneios':'Torneios'})\n",
        "graficoMedia.update_layout(template = 'plotly_white')\n",
        "\n",
        "graficoMedia.show()"
      ]
    }
  ],
  "metadata": {
    "colab": {
      "authorship_tag": "ABX9TyMvmfwRsaOi0omegrrRMGJ0",
      "include_colab_link": true,
      "provenance": []
    },
    "kernelspec": {
      "display_name": "Python 3",
      "name": "python3"
    },
    "language_info": {
      "codemirror_mode": {
        "name": "ipython",
        "version": 3
      },
      "file_extension": ".py",
      "mimetype": "text/x-python",
      "name": "python",
      "nbconvert_exporter": "python",
      "pygments_lexer": "ipython3",
      "version": "3.11.9"
    }
  },
  "nbformat": 4,
  "nbformat_minor": 0
}
